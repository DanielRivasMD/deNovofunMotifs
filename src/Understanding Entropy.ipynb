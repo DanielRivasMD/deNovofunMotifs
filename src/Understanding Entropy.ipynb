{
 "cells": [
  {
   "cell_type": "code",
   "execution_count": 2,
   "id": "bb06402b",
   "metadata": {},
   "outputs": [],
   "source": [
    "import math\n",
    "from collections import Counter"
   ]
  },
  {
   "cell_type": "code",
   "execution_count": 3,
   "id": "3d6bd377",
   "metadata": {},
   "outputs": [],
   "source": [
    "##Simple Example\n",
    "##Let our sequence be\n",
    "#A 1  99\n",
    "#C 99 1\n",
    "#G 10 20\n",
    "#T 5  15\n",
    "#Using novel entropy method from \"A new method to study genome mutations using theinformation entropy (Vopson 2021);\n",
    "#https://doi.org/10.1101/2021.05.27.445958\n",
    "#given distribution returns entropy of distribution\n",
    "\n",
    "#input sequence and motif distribution of letters\n",
    "def seq_ent(sq,lst):\n",
    "    #generate blocks\n",
    "    block_e =[]\n",
    "    for i in range(0,len(sq)-2):\n",
    "        block_e.append(sq[i:i+3])\n",
    "    Counter(words).keys() # equals to list(set(words))\n",
    "    l = Counter(words).values()\n",
    "    \n",
    "    return (total_ent(block_e))\n",
    "    \n",
    "#total entropy\n",
    "def total_ent(dist):\n",
    "    t_ent=0\n",
    "    for i in range(0,len(dist)):\n",
    "        t_ent += entropy(dist[i])\n",
    "    return (t_ent)\n",
    "\n",
    "#entropy helper function\n",
    "def entropy(p):\n",
    "    if p<=0:\n",
    "        return 0\n",
    "    else:\n",
    "        return (-p*math.log2(p))"
   ]
  },
  {
   "cell_type": "code",
   "execution_count": 4,
   "id": "c31758df",
   "metadata": {},
   "outputs": [],
   "source": [
    "#Produces the entropy spectrum/blocks needed to compute it.\n",
    "def ent_seq(s):\n",
    "    block=[]\n",
    "    for i in range(0,len(s)-2):\n",
    "        block.append(s[i:i+3])\n",
    "    Counter(block).keys() # equals to list(set(words))\n",
    "    l = Counter(block).values() # counts the elements' frequency\n",
    "    nm = len(block)\n",
    "    newList = [x / nm for x in l]\n",
    "    print(newList)\n",
    "    return (total_ent(newList))"
   ]
  },
  {
   "cell_type": "code",
   "execution_count": null,
   "id": "0c4983fe",
   "metadata": {},
   "outputs": [],
   "source": []
  },
  {
   "cell_type": "code",
   "execution_count": 19,
   "id": "64c02bdb",
   "metadata": {},
   "outputs": [],
   "source": [
    "#Original sequence\n",
    "s1='ATGCATGCATGC'\n",
    "#deletion mutation\n",
    "s2='ATGCATCATGC'\n",
    "#insertion mutation\n",
    "s3='ATGCATGACATGC'\n",
    "#Original sequence\n",
    "s4='GGGGGGGGGG'\n",
    "#Point mutation\n",
    "s5='GGGGGTGGGG'\n",
    "s6='GGGGG'\n",
    "s7='ATGC'"
   ]
  },
  {
   "cell_type": "code",
   "execution_count": 12,
   "id": "e4a5e43a",
   "metadata": {},
   "outputs": [
    {
     "name": "stdout",
     "output_type": "stream",
     "text": [
      "[0.3, 0.3, 0.2, 0.2]\n"
     ]
    },
    {
     "data": {
      "text/plain": [
       "1.9709505944546686"
      ]
     },
     "execution_count": 12,
     "metadata": {},
     "output_type": "execute_result"
    }
   ],
   "source": [
    "ent_seq(s1)"
   ]
  },
  {
   "cell_type": "code",
   "execution_count": 13,
   "id": "ba5b8166",
   "metadata": {},
   "outputs": [
    {
     "name": "stdout",
     "output_type": "stream",
     "text": [
      "[0.2222222222222222, 0.2222222222222222, 0.1111111111111111, 0.2222222222222222, 0.1111111111111111, 0.1111111111111111]\n"
     ]
    },
    {
     "data": {
      "text/plain": [
       "2.5032583347756456"
      ]
     },
     "execution_count": 13,
     "metadata": {},
     "output_type": "execute_result"
    }
   ],
   "source": [
    "ent_seq(s2)"
   ]
  },
  {
   "cell_type": "code",
   "execution_count": 14,
   "id": "906b02b9",
   "metadata": {},
   "outputs": [
    {
     "name": "stdout",
     "output_type": "stream",
     "text": [
      "[0.2727272727272727, 0.18181818181818182, 0.09090909090909091, 0.18181818181818182, 0.09090909090909091, 0.09090909090909091, 0.09090909090909091]\n"
     ]
    },
    {
     "data": {
      "text/plain": [
       "2.663532754804255"
      ]
     },
     "execution_count": 14,
     "metadata": {},
     "output_type": "execute_result"
    }
   ],
   "source": [
    "ent_seq(s3)"
   ]
  },
  {
   "cell_type": "code",
   "execution_count": 15,
   "id": "52df93ed",
   "metadata": {},
   "outputs": [
    {
     "name": "stdout",
     "output_type": "stream",
     "text": [
      "[1.0]\n"
     ]
    },
    {
     "data": {
      "text/plain": [
       "0.0"
      ]
     },
     "execution_count": 15,
     "metadata": {},
     "output_type": "execute_result"
    }
   ],
   "source": [
    "#As expected, \n",
    "ent_seq(s4)"
   ]
  },
  {
   "cell_type": "code",
   "execution_count": 16,
   "id": "04df585a",
   "metadata": {},
   "outputs": [
    {
     "name": "stdout",
     "output_type": "stream",
     "text": [
      "[0.625, 0.125, 0.125, 0.125]\n"
     ]
    },
    {
     "data": {
      "text/plain": [
       "1.5487949406953985"
      ]
     },
     "execution_count": 16,
     "metadata": {},
     "output_type": "execute_result"
    }
   ],
   "source": [
    "ent_seq(s5)"
   ]
  },
  {
   "cell_type": "code",
   "execution_count": 20,
   "id": "c826ea65",
   "metadata": {},
   "outputs": [
    {
     "name": "stdout",
     "output_type": "stream",
     "text": [
      "[1.0]\n"
     ]
    },
    {
     "data": {
      "text/plain": [
       "0.0"
      ]
     },
     "execution_count": 20,
     "metadata": {},
     "output_type": "execute_result"
    }
   ],
   "source": [
    "ent_seq(s6)"
   ]
  },
  {
   "cell_type": "code",
   "execution_count": 21,
   "id": "3e4f1439",
   "metadata": {},
   "outputs": [
    {
     "name": "stdout",
     "output_type": "stream",
     "text": [
      "[0.5, 0.5]\n"
     ]
    },
    {
     "data": {
      "text/plain": [
       "1.0"
      ]
     },
     "execution_count": 21,
     "metadata": {},
     "output_type": "execute_result"
    }
   ],
   "source": [
    "ent_seq(s7)"
   ]
  },
  {
   "cell_type": "code",
   "execution_count": 134,
   "id": "9dc9bcfa",
   "metadata": {},
   "outputs": [
    {
     "data": {
      "text/plain": [
       "0.0"
      ]
     },
     "execution_count": 134,
     "metadata": {},
     "output_type": "execute_result"
    }
   ],
   "source": [
    "total_ent(newList)"
   ]
  },
  {
   "cell_type": "code",
   "execution_count": 117,
   "id": "acbb632f",
   "metadata": {},
   "outputs": [
    {
     "ename": "TypeError",
     "evalue": "unsupported operand type(s) for /: 'dict_values' and 'int'",
     "output_type": "error",
     "traceback": [
      "\u001b[0;31m---------------------------------------------------------------------------\u001b[0m",
      "\u001b[0;31mTypeError\u001b[0m                                 Traceback (most recent call last)",
      "\u001b[0;32m<ipython-input-117-97a99560f638>\u001b[0m in \u001b[0;36m<module>\u001b[0;34m\u001b[0m\n\u001b[0;32m----> 1\u001b[0;31m \u001b[0ml\u001b[0m\u001b[0;34m/\u001b[0m\u001b[0mlen\u001b[0m\u001b[0;34m(\u001b[0m\u001b[0mCounter\u001b[0m\u001b[0;34m(\u001b[0m\u001b[0mwords\u001b[0m\u001b[0;34m)\u001b[0m\u001b[0;34m.\u001b[0m\u001b[0mkeys\u001b[0m\u001b[0;34m(\u001b[0m\u001b[0;34m)\u001b[0m\u001b[0;34m)\u001b[0m\u001b[0;34m\u001b[0m\u001b[0;34m\u001b[0m\u001b[0m\n\u001b[0m",
      "\u001b[0;31mTypeError\u001b[0m: unsupported operand type(s) for /: 'dict_values' and 'int'"
     ]
    }
   ],
   "source": [
    "l/len(Counter(words).keys())"
   ]
  },
  {
   "cell_type": "code",
   "execution_count": 114,
   "id": "0203efbe",
   "metadata": {},
   "outputs": [
    {
     "data": {
      "text/plain": [
       "dict_keys(['A', 'C', 'G', 'T'])"
      ]
     },
     "execution_count": 114,
     "metadata": {},
     "output_type": "execute_result"
    }
   ],
   "source": [
    "Counter(words).keys()"
   ]
  },
  {
   "cell_type": "code",
   "execution_count": 60,
   "id": "665c5bd5",
   "metadata": {},
   "outputs": [
    {
     "data": {
      "text/plain": [
       "0.014354573998163938"
      ]
     },
     "execution_count": 60,
     "metadata": {},
     "output_type": "execute_result"
    }
   ],
   "source": [
    "entropy(0.99)"
   ]
  },
  {
   "cell_type": "code",
   "execution_count": 99,
   "id": "ebcdeae7",
   "metadata": {},
   "outputs": [
    {
     "data": {
      "text/plain": [
       "1.03125"
      ]
     },
     "execution_count": 99,
     "metadata": {},
     "output_type": "execute_result"
    }
   ],
   "source": [
    "seq_ent(seq,plst)"
   ]
  },
  {
   "cell_type": "code",
   "execution_count": 100,
   "id": "eeecf011",
   "metadata": {},
   "outputs": [
    {
     "data": {
      "text/plain": [
       "1.03125"
      ]
     },
     "execution_count": 100,
     "metadata": {},
     "output_type": "execute_result"
    }
   ],
   "source": [
    "seq_ent(seqq,plst)"
   ]
  },
  {
   "cell_type": "code",
   "execution_count": 97,
   "id": "58bca183",
   "metadata": {},
   "outputs": [],
   "source": [
    "M=[[1,99],[99,1],[10,20],[30,40]]\n",
    "plst = [0.25,0.25,0.25,0.25]\n"
   ]
  },
  {
   "cell_type": "code",
   "execution_count": 98,
   "id": "143c8bc1",
   "metadata": {},
   "outputs": [],
   "source": [
    "seq = 'AGATCCGGGTATG'\n",
    "seqq= 'AGATCCGGGCATG'"
   ]
  },
  {
   "cell_type": "code",
   "execution_count": 18,
   "id": "221e0f12",
   "metadata": {},
   "outputs": [],
   "source": [
    "#generate blocks\n",
    "block_s =[]\n",
    "for i in range(0,len(seq)-2):\n",
    "    block_s.append(seq[i:i+3])"
   ]
  },
  {
   "cell_type": "code",
   "execution_count": 109,
   "id": "cdd27039",
   "metadata": {},
   "outputs": [
    {
     "data": {
      "text/plain": [
       "['AGG', 'GGT', 'GTG', 'TGG', 'GGA']"
      ]
     },
     "execution_count": 109,
     "metadata": {},
     "output_type": "execute_result"
    }
   ],
   "source": [
    "block_s"
   ]
  },
  {
   "cell_type": "code",
   "execution_count": null,
   "id": "f85ad8a2",
   "metadata": {},
   "outputs": [],
   "source": [
    "dist\n",
    "for b in block_s:\n",
    "    "
   ]
  },
  {
   "cell_type": "code",
   "execution_count": 15,
   "id": "cc73732d",
   "metadata": {},
   "outputs": [
    {
     "data": {
      "text/plain": [
       "'GGT'"
      ]
     },
     "execution_count": 15,
     "metadata": {},
     "output_type": "execute_result"
    }
   ],
   "source": [
    "seq[1:4]"
   ]
  },
  {
   "cell_type": "code",
   "execution_count": 11,
   "id": "9c984804",
   "metadata": {},
   "outputs": [
    {
     "data": {
      "text/plain": [
       "100"
      ]
     },
     "execution_count": 11,
     "metadata": {},
     "output_type": "execute_result"
    }
   ],
   "source": [
    "sum(M[1])"
   ]
  },
  {
   "cell_type": "code",
   "execution_count": 24,
   "id": "f0b48e72",
   "metadata": {},
   "outputs": [
    {
     "data": {
      "text/plain": [
       "0.44217935649972373"
      ]
     },
     "execution_count": 24,
     "metadata": {},
     "output_type": "execute_result"
    }
   ],
   "source": [
    "entropy(0.6)"
   ]
  },
  {
   "cell_type": "code",
   "execution_count": null,
   "id": "e130c97e",
   "metadata": {},
   "outputs": [],
   "source": []
  }
 ],
 "metadata": {
  "kernelspec": {
   "display_name": "Python 3",
   "language": "python",
   "name": "python3"
  },
  "language_info": {
   "codemirror_mode": {
    "name": "ipython",
    "version": 3
   },
   "file_extension": ".py",
   "mimetype": "text/x-python",
   "name": "python",
   "nbconvert_exporter": "python",
   "pygments_lexer": "ipython3",
   "version": "3.9.5"
  }
 },
 "nbformat": 4,
 "nbformat_minor": 5
}
