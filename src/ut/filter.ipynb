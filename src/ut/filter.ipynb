{
 "cells": [
  {
   "cell_type": "code",
   "execution_count": 3,
   "id": "45440d97",
   "metadata": {},
   "outputs": [],
   "source": [
    "import pandas as pd"
   ]
  },
  {
   "cell_type": "code",
   "execution_count": 6,
   "id": "7d595d80",
   "metadata": {},
   "outputs": [
    {
     "data": {
      "text/plain": [
       "126"
      ]
     },
     "execution_count": 6,
     "metadata": {},
     "output_type": "execute_result"
    }
   ],
   "source": [
    "file = open('observed_agreement_22May2017_hg38_sorted.bed9', 'r')\n",
    "lines = file.readlines()\n",
    "\n",
    "chr_ = 'chr21'\n",
    "pat = 'DO50848'\n",
    "m_type = 'SNP'\n",
    "\n",
    "l_out = []\n",
    "\n",
    "for i,l in enumerate(lines):\n",
    "    l_tmp = l.strip().split()\n",
    "    if (l_tmp[0] == chr_) & (l_tmp[-1] == pat) & (l_tmp[6] == m_type):\n",
    "        l_out.append(l)\n",
    "        \n",
    "len(l_out)"
   ]
  },
  {
   "cell_type": "code",
   "execution_count": 7,
   "id": "430a848a",
   "metadata": {},
   "outputs": [
    {
     "name": "stdout",
     "output_type": "stream",
     "text": [
      "Done!\n"
     ]
    }
   ],
   "source": [
    "with open(\"specific_mutations.bed9\", \"w\") as out:\n",
    "    out.write(\"\".join(l_out))\n",
    "\n",
    "print('Done!')"
   ]
  }
 ],
 "metadata": {
  "kernelspec": {
   "display_name": "Python 3 (ipykernel)",
   "language": "python",
   "name": "python3"
  },
  "language_info": {
   "codemirror_mode": {
    "name": "ipython",
    "version": 3
   },
   "file_extension": ".py",
   "mimetype": "text/x-python",
   "name": "python",
   "nbconvert_exporter": "python",
   "pygments_lexer": "ipython3",
   "version": "3.10.8"
  }
 },
 "nbformat": 4,
 "nbformat_minor": 5
}
