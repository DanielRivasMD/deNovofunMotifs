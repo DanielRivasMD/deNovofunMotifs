{
 "cells": [
  {
   "cell_type": "code",
   "execution_count": 1,
   "id": "6089a9a0",
   "metadata": {},
   "outputs": [],
   "source": [
    "file = open('observed_agreement_22May2017_hg38_sorted.bed9', 'r')\n",
    "lines = file.readlines()"
   ]
  },
  {
   "cell_type": "code",
   "execution_count": 2,
   "id": "3bcd8e06",
   "metadata": {},
   "outputs": [
    {
     "name": "stdout",
     "output_type": "stream",
     "text": [
      "{'ONP', 'INS', 'SNP', 'TNP', 'DEL', 'DNP'}\n"
     ]
    }
   ],
   "source": [
    "poss = []\n",
    "for i,l in enumerate(lines):\n",
    "    l = l.strip().split()\n",
    "    poss.append(l[6])\n",
    "print(set(poss))"
   ]
  },
  {
   "cell_type": "code",
   "execution_count": 5,
   "id": "50b168dd",
   "metadata": {},
   "outputs": [
    {
     "name": "stdout",
     "output_type": "stream",
     "text": [
      "{'ONP': 160, 'INS': 546687, 'SNP': 23550040, 'TNP': 3147, 'DEL': 964098, 'DNP': 205401}\n"
     ]
    }
   ],
   "source": [
    "c_poss = dict.fromkeys(set(poss))\n",
    "for k in c_poss.keys():\n",
    "    c_poss[k] = 0\n",
    "for v in poss:\n",
    "    if v == 'INS':\n",
    "        c_poss['INS'] += 1\n",
    "    elif v == 'DNP':\n",
    "        c_poss['DNP'] += 1\n",
    "    elif v == 'DEL':\n",
    "        c_poss['DEL'] += 1\n",
    "    elif v == 'SNP':\n",
    "        c_poss['SNP'] += 1\n",
    "    elif v == 'TNP':\n",
    "        c_poss['TNP'] += 1\n",
    "    elif v == 'ONP':\n",
    "        c_poss['ONP'] += 1\n",
    "print(c_poss)"
   ]
  },
  {
   "cell_type": "code",
   "execution_count": null,
   "id": "13cb6112",
   "metadata": {},
   "outputs": [],
   "source": []
  }
 ],
 "metadata": {
  "kernelspec": {
   "display_name": "Python 3 (ipykernel)",
   "language": "python",
   "name": "python3"
  },
  "language_info": {
   "codemirror_mode": {
    "name": "ipython",
    "version": 3
   },
   "file_extension": ".py",
   "mimetype": "text/x-python",
   "name": "python",
   "nbconvert_exporter": "python",
   "pygments_lexer": "ipython3",
   "version": "3.10.8"
  }
 },
 "nbformat": 4,
 "nbformat_minor": 5
}
