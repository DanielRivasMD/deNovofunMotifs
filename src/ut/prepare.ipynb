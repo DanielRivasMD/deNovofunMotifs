{
 "cells": [
  {
   "cell_type": "code",
   "execution_count": 6,
   "id": "90e4c2fa",
   "metadata": {},
   "outputs": [
    {
     "data": {
      "text/plain": [
       "37845"
      ]
     },
     "execution_count": 6,
     "metadata": {},
     "output_type": "execute_result"
    }
   ],
   "source": [
    "file = open('observed_agreement_22May2017_hg38_sorted.bed9', 'r')\n",
    "lines = file.readlines()\n",
    "\n",
    "to_check = 'chrY'\n",
    "l_out = []\n",
    "\n",
    "for i,l in enumerate(lines):\n",
    "    l_tmp = l.strip().split()\n",
    "    if l_tmp[0] == to_check:\n",
    "        l_out.append(l)\n",
    "        \n",
    "len(l_out)"
   ]
  },
  {
   "cell_type": "code",
   "execution_count": 9,
   "id": "cbc81d8c",
   "metadata": {},
   "outputs": [
    {
     "name": "stdout",
     "output_type": "stream",
     "text": [
      "Done!\n"
     ]
    }
   ],
   "source": [
    "with open(\"to_check.txt\", \"w\") as out:\n",
    "    out.write(\"\".join(l_out))\n",
    "\n",
    "print('Done!')"
   ]
  }
 ],
 "metadata": {
  "kernelspec": {
   "display_name": "Python 3 (ipykernel)",
   "language": "python",
   "name": "python3"
  },
  "language_info": {
   "codemirror_mode": {
    "name": "ipython",
    "version": 3
   },
   "file_extension": ".py",
   "mimetype": "text/x-python",
   "name": "python",
   "nbconvert_exporter": "python",
   "pygments_lexer": "ipython3",
   "version": "3.10.8"
  }
 },
 "nbformat": 4,
 "nbformat_minor": 5
}
