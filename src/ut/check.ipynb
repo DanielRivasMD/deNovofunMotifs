{
 "cells": [
  {
   "cell_type": "code",
   "execution_count": 357,
   "id": "a7b89688",
   "metadata": {},
   "outputs": [],
   "source": [
    "from Bio import SeqIO\n",
    "from tqdm.notebook import tqdm\n",
    "\n",
    "seq_dict_o = {rec.id.split(':')[1] : rec.seq for rec in SeqIO.parse('chrY.extended_motifs.fa', 'fasta')}\n",
    "seq_dict_m = {rec.id.split('|')[1].split(':')[0] : rec.seq for rec in SeqIO.parse('chrY.extended_motifs.fa.mutated', 'fasta')}\n",
    "\n",
    "#m_to_r = {rec.id.split('|')[1].split(':')[0] : rec.id.split('|')[1].split(':')[1] for rec in SeqIO.parse('chrY.extended_motifs.fa.mutated', 'fasta') if ':' in rec.id.split('|')[1]}\n"
   ]
  },
  {
   "cell_type": "code",
   "execution_count": 163,
   "id": "d899cdfe",
   "metadata": {},
   "outputs": [],
   "source": [
    "def find_k(s, l, seq):\n",
    "    out = []\n",
    "    for k in seq.keys():\n",
    "        bounds = [int(v) for v in k.split('-')]\n",
    "        if bounds[0] <= s < bounds[1]:\n",
    "            if bounds[1] - s >= l:\n",
    "                return k\n",
    "            else:\n",
    "                return None\n",
    "    return None"
   ]
  },
  {
   "cell_type": "code",
   "execution_count": 337,
   "id": "caa5bff9",
   "metadata": {},
   "outputs": [],
   "source": [
    "def sequence_compare(seq_a, seq_b):\n",
    "    len1 = len(seq_a)\n",
    "    len2 = len(seq_b)\n",
    "    mismatches = []\n",
    "    for pos in range (0, min(len1, len2)) :\n",
    "        if seq_a[pos] != seq_b[pos]:\n",
    "            print(pos)\n",
    "            mismatches.append('|')\n",
    "        else:\n",
    "            mismatches.append(' ')\n",
    "    print(seq_a)\n",
    "    print(\"\".join(mismatches))\n",
    "    print(seq_b)"
   ]
  },
  {
   "cell_type": "code",
   "execution_count": 382,
   "id": "7faa1ebc",
   "metadata": {},
   "outputs": [
    {
     "data": {
      "application/vnd.jupyter.widget-view+json": {
       "model_id": "ef406545506542d6b45547b5941e73b3",
       "version_major": 2,
       "version_minor": 0
      },
      "text/plain": [
       "  0%|          | 0/37845 [00:00<?, ?it/s]"
      ]
     },
     "metadata": {},
     "output_type": "display_data"
    },
    {
     "name": "stdout",
     "output_type": "stream",
     "text": [
      "[17980, 611, 19254]\n",
      "[18591, 0, 19254]\n",
      "611\n"
     ]
    }
   ],
   "source": [
    "status_o = [0,0,0]\n",
    "status_m = [0,0,0]\n",
    "\n",
    "with open('to_check.txt', 'r') as f:\n",
    "    lines = f.readlines()\n",
    "\n",
    "total = len(lines)   \n",
    "v = False\n",
    "\n",
    "total_ins = 0\n",
    "\n",
    "with tqdm(total=total) as pbar:\n",
    "    for i,l in enumerate(lines):\n",
    "        #if i == 200:\n",
    "        #    break\n",
    "        l = l.strip().split()\n",
    "        k_o = find_k(int(l[1])-1, len(l[3]), seq_dict_o)\n",
    "        k_m = '*'.join([x for i,x in enumerate(l[1:]) if i!=6])\n",
    "        if k_o and k_m in seq_dict_m.keys():\n",
    "            seq_o = seq_dict_o[k_o]\n",
    "            seq_m = seq_dict_m[k_m]\n",
    "            pos_s = int(l[1])-int(k_o.split('-')[0])\n",
    "            if l[3] == '-':\n",
    "                total_ins += 1\n",
    "                if (len(seq_m) - len(seq_o)) == len(l[4]):\n",
    "                    status_o[0] += 1\n",
    "                else:\n",
    "                    if v:\n",
    "                        print('Original (deletion) incorrect')\n",
    "                        print(l)\n",
    "                    status_o[1] += 1\n",
    "            elif seq_o[pos_s-1:(pos_s+len(l[3])-1)].upper() == l[3]:\n",
    "                status_o[0] += 1\n",
    "            else:\n",
    "                if v:\n",
    "                    print('Original incorrect')\n",
    "                    print(l)\n",
    "                status_o[1] += 1\n",
    "            if l[4] == '-':\n",
    "                if (len(seq_o) - len(seq_m)) == len(l[3]):\n",
    "                    status_m[0] += 1\n",
    "                else:\n",
    "                    if v:\n",
    "                        print('Mutated (deletion) incorrect')\n",
    "                        print(l)\n",
    "                    status_m[1] += 1\n",
    "            elif seq_m[pos_s-1:(pos_s+len(l[4])-1)].upper() == l[4]:\n",
    "                status_m[0] += 1\n",
    "            else:\n",
    "                if v:\n",
    "                    print('Mutated incorrect')\n",
    "                    print(l)\n",
    "                status_m[1] += 1\n",
    "        else:\n",
    "            status_o[2] += 1\n",
    "            status_m[2] += 1\n",
    "        pbar.update(1)\n",
    "print(status_o)\n",
    "print(status_m)\n",
    "print(total_ins)"
   ]
  },
  {
   "cell_type": "code",
   "execution_count": 371,
   "id": "7e67b90d",
   "metadata": {},
   "outputs": [
    {
     "name": "stdout",
     "output_type": "stream",
     "text": [
      "513\n",
      "871\n",
      "873\n",
      "2\n",
      "4\n",
      "cctttgattcccagttggccaagaggccaccatcatatggagctacCGAAAATGCCCCTTCTCAGCATtgtgaaaggaaaatatcttgggtcccttcaaggtagtaactactcagggcaaatctgcttcccattatattcaaagtcatccttctgatcactgagttagatgcatatctgattgcctcctttggataggcttctcagaaactcaaaagaatacaaccatttgtctctcacctacctgtaacatggaagccccctccctgctttgagttgtccctgcccttctggatggaaccaatgtacttcttacatatattgactgatgtcttatttctccctgaaatgtatcaaaccag\n",
      "ccTTGAtgattcccagttggccaagaggccaccatcatatggagctacCGAAAATGCCCCTTCTCAGCATtgtgaaaggaaaatatcttgggtcccttcaaggtagtaactactcagggcaaatctgcttcccattatattcaaagtcatccttctgatcactgagttagatgcatatctgattgcctcctttggataggcttctcagaaactcaaaagaatacaaccatttgtctctcacctacctgtaacatggaagccccctccctgctttgagttgtccctgcccttctggatggaaccaatgtacttcttacatatattgactgatgtcttatttctccctgaaatgtatcaaaccag\n"
     ]
    }
   ],
   "source": [
    "l = ['chrY', '2925985', '2925986', '-', 'TTGA', 'Stomach-AdenoCA', 'INS', 'DO47817']\n",
    "k_o = find_k(int(l[1])-1, len(l[3]), seq_dict_o)\n",
    "k_m = '*'.join([x for i,x in enumerate(l[1:])])\n",
    "seq_o = seq_dict_o[k_o]\n",
    "seq_m = seq_dict_m[k_m]\n",
    "pos_s = int(l[1])-int(k_o.split('-')[0])\n",
    "#sequence_compare(seq_o,seq_m)\n",
    "#print(m_to_r[k_m])\n",
    "print(pos_s)\n",
    "#print(k_o)\n",
    "print(len(seq_o))\n",
    "print(len(seq_m))\n",
    "#print(seq_m[pos_s-1:(pos_s+len(l[4])-1)].upper())\n",
    "print(len(seq_m) - len(seq_o))\n",
    "print(len(l[4]))\n",
    "print(seq_o[510:])\n",
    "print(seq_m[510:])"
   ]
  },
  {
   "cell_type": "code",
   "execution_count": 375,
   "id": "d8bf8586",
   "metadata": {},
   "outputs": [
    {
     "name": "stdout",
     "output_type": "stream",
     "text": [
      "508\n",
      "2289\n",
      "2288\n",
      "-1\n",
      "1\n",
      "gtttcactgagaacttttgcatttatgttcactaaggatattggtctgaggtttttcttgttgtgtttgctgctgttgcatctctgccaggccttggtattagagtgatgctgacttcacagaataagttagggaggagtccctcctcttcagttttatggaatagtttcagtagaattgttgccagctctgctttatatgcctggtagaatttggctgtaaatttccctggtccagggctatttctttttcttttcttttcttttcttttttttttttttttttttgttgagacagagtctcactctgttgcccaggctggagtgtggtggcgcaatctcggctcactgcaagctccgcctgccgggttcacgccattcttctgcctcaggcttctgggtagctgggactacaggcgcctcccaacaggccagctaattttttgtatttttagtaaagacggggtttcactgtgttagccaggatggtctcagtctcctgacctcgtgatccacctgcctcagcctcccaaagtgcagggattacagtcatgagccgccatgcccagccAAATCCAGTGCTATTACAGGTTGGGGAAGTTTTTATTACTGTTTCTGAACACTTTCTTTTTGCTGTCTGTTGTTGTTTAGCTGATACACATTGCTTATTTGGAGTGTGTAATTTTATACGTGTCATCTTTTAGTGTAGTTGTAAGGATGATAGACTGTTTGATATCCTCTCTAGTGTTTGAATATGTTTCCAGTTTGAATCCCAGAAAATATTTTGCCTTTCAACTTTGAGAACCCATTTTGGGGTTGCTCTGGCTTAATACCATATACACAAAAGCCAACTAAATGCAAGCACAGATGGAAAAGAAACTATGTACTTACCAGGAAAGACAATAAGCTGTCCTCTCCAACTAAAAAGAAAAAGAAATTggctgggcactgtggctcatgcctgtaatcccagcactttgggaggaggccaaggcagggaaccacgaggtcaggagatcgagaccatcctggcgaacttggtgaaacccggtctccaccaaaaaaaaaaaaatacaaaaattagctgggcacggtggctcacacttgtagtcccagctagtcagtaggctgaggcaagagaatcacttgaaattgggaggcagaggttgcagtgagccaagattgcaccactgcactccagcctggtgacagagtgagacaacatctaaaaaaaaaaaaaaaagaagaaGGAATTTTTTTTTTAACAAAAACTCAATCCAAAGGGAACAGTTCTTTCACCTGGACCTTAAGACTGAAGTCAACCAGGAATAGAAGAGTCCTCACAAACAAAAGATCTCCCACCTGAGGGGCAAGACCCCTCTCTATCCAGGTCCAAATAAAACAGAATTTGACCAAAGTTGGGACTTCAGTTCAAACATCTAGATATGACATTTTAGGTCATGGgtggtgactcacacttgtataatctcagcacttcgggaggttgagatgtacaagttacatgagtgtcatgagtttgagaccagactggtcaacgtggtaaatcccgtctttactaaaaatacaaaaattagctgggcatggtggcggatgcctataattccagccactcgggagactgaggtgggaggatcccatgaactcaggaggtggagatgaaaatgaaatgagattacaccactgtattgcagcctgggtgacagaatgagactctgtctcaaaaaaaGtgacattttaatcagtcttggaaatataaccaaat\n",
      "TttcactgagaacttttgcatttatgttcactaaggatattggtctgaggtttttcttgttgtgtttgctgctgttgcatctctgccaggccttggtattagagtgatgctgacttcacagaataagttagggaggagtccctcctcttcagttttatggaatagtttcagtagaattgttgccagctctgctttatatgcctggtagaatttggctgtaaatttccctggtccagggctatttctttttcttttcttttcttttcttttttttttttttttttttgttgagacagagtctcactctgttgcccaggctggagtgtggtggcgcaatctcggctcactgcaagctccgcctgccgggttcacgccattcttctgcctcaggcttctgggtagctgggactacaggcgcctcccaacaggccagctaattttttgtatttttagtaaagacggggtttcactgtgttagccaggatggtctcagtctcctgacctcgtgatccacctgcctcagcctcccaaagtgcagggattacagtcatgagccgccatgcccagccAAATCCAGTGCTATTACAGGTTGGGGAAGTTTTTATTACTGTTTCTGAACACTTTCTTTTTGCTGTCTGTTGTTGTTTAGCTGATACACATTGCTTATTTGGAGTGTGTAATTTTATACGTGTCATCTTTTAGTGTAGTTGTAAGGATGATAGACTGTTTGATATCCTCTCTAGTGTTTGAATATGTTTCCAGTTTGAATCCCAGAAAATATTTTGCCTTTCAACTTTGAGAACCCATTTTGGGGTTGCTCTGGCTTAATACCATATACACAAAAGCCAACTAAATGCAAGCACAGATGGAAAAGAAACTATGTACTTACCAGGAAAGACAATAAGCTGTCCTCTCCAACTAAAAAGAAAAAGAAATTggctgggcactgtggctcatgcctgtaatcccagcactttgggaggaggccaaggcagggaaccacgaggtcaggagatcgagaccatcctggcgaacttggtgaaacccggtctccaccaaaaaaaaaaaaatacaaaaattagctgggcacggtggctcacacttgtagtcccagctagtcagtaggctgaggcaagagaatcacttgaaattgggaggcagaggttgcagtgagccaagattgcaccactgcactccagcctggtgacagagtgagacaacatctaaaaaaaaaaaaaaaagaagaaGGAATTTTTTTTTTAACAAAAACTCAATCCAAAGGGAACAGTTCTTTCACCTGGACCTTAAGACTGAAGTCAACCAGGAATAGAAGAGTCCTCACAAACAAAAGATCTCCCACCTGAGGGGCAAGACCCCTCTCTATCCAGGTCCAAATAAAACAGAATTTGACCAAAGTTGGGACTTCAGTTCAAACATCTAGATATGACATTTTAGGTCATGGgtggtgactcacacttgtataatctcagcacttcgggaggttgagatgtacaagttacatgagtgtcatgagtttgagaccagactggtcaacgtggtaaatcccgtctttactaaaaatacaaaaattagctgggcatggtggcggatgcctataattccagccactcgggagactgaggtgggaggatcccatgaactcaggaggtggagatgaaaatgaaatgagattacaccactgtattgcagcctgggtgacagaatgagactctgtctcaaaaaaaGtgacattttaatcagtcttggaaatataaccaaat\n"
     ]
    }
   ],
   "source": [
    "l = ['chrY', '2817337', '2817338', '-', 'T', 'Liver-HCC', 'INS', 'DO45035']\n",
    "k_o = find_k(int(l[1])-1, len(l[3]), seq_dict_o)\n",
    "k_m = '*'.join([x for i,x in enumerate(l[1:])])\n",
    "seq_o = seq_dict_o[k_o]\n",
    "seq_m = seq_dict_m[k_m]\n",
    "pos_s = int(l[1])-int(k_o.split('-')[0])\n",
    "#sequence_compare(seq_o,seq_m)\n",
    "#print(m_to_r[k_m])\n",
    "print(pos_s)\n",
    "#print(k_o)\n",
    "print(len(seq_o))\n",
    "print(len(seq_m))\n",
    "#print(seq_m[pos_s-1:(pos_s+len(l[4])-1)].upper())\n",
    "print(len(seq_m) - len(seq_o))\n",
    "print(len(l[4]))\n",
    "print(seq_o[507:])\n",
    "print(seq_m[507:])"
   ]
  }
 ],
 "metadata": {
  "kernelspec": {
   "display_name": "Python 3 (ipykernel)",
   "language": "python",
   "name": "python3"
  },
  "language_info": {
   "codemirror_mode": {
    "name": "ipython",
    "version": 3
   },
   "file_extension": ".py",
   "mimetype": "text/x-python",
   "name": "python",
   "nbconvert_exporter": "python",
   "pygments_lexer": "ipython3",
   "version": "3.10.8"
  }
 },
 "nbformat": 4,
 "nbformat_minor": 5
}
