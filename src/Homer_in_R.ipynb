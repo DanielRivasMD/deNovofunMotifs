{
 "cells": [
  {
   "cell_type": "code",
   "execution_count": 4,
   "id": "be428c80",
   "metadata": {},
   "outputs": [
    {
     "name": "stderr",
     "output_type": "stream",
     "text": [
      "'getOption(\"repos\")' replaces Bioconductor standard repositories, see\n",
      "'?repositories' for details\n",
      "\n",
      "replacement repositories:\n",
      "    CRAN: https://cran.r-project.org\n",
      "\n",
      "\n",
      "Bioconductor version 3.16 (BiocManager 1.30.19), R 4.2.2 (2022-10-31)\n",
      "\n",
      "Installing package(s) 'monaLisa'\n",
      "\n",
      "also installing the dependencies ‘iterators’, ‘foreach’, ‘shape’, ‘RcppEigen’, ‘GlobalOptions’, ‘GetoptLong’, ‘clue’, ‘doParallel’, ‘sm’, ‘zoo’, ‘stabs’, ‘glmnet’, ‘circlize’, ‘ComplexHeatmap’, ‘vioplot’\n",
      "\n",
      "\n"
     ]
    },
    {
     "name": "stdout",
     "output_type": "stream",
     "text": [
      "\n",
      "The downloaded binary packages are in\n",
      "\t/var/folders/v_/t8sj0x6d40df4js90kcjqysr0000gn/T//Rtmp0au3HZ/downloaded_packages\n"
     ]
    },
    {
     "name": "stderr",
     "output_type": "stream",
     "text": [
      "Old packages: 'boot', 'bslib', 'evaluate', 'foreign', 'GenomicRanges', 'gert',\n",
      "  'htmlwidgets', 'httpuv', 'Matrix', 'nlme', 'openssl', 'pkgdown', 'rmarkdown',\n",
      "  'roxygen2', 'shiny', 'testthat', 'tinytex', 'whisker'\n",
      "\n"
     ]
    }
   ],
   "source": [
    "if (!require(\"BiocManager\", quietly = TRUE))\n",
    "    install.packages(\"BiocManager\")\n",
    "\n",
    "BiocManager::install(\"monaLisa\")"
   ]
  },
  {
   "cell_type": "code",
   "execution_count": 1,
   "id": "12383a79",
   "metadata": {},
   "outputs": [
    {
     "name": "stderr",
     "output_type": "stream",
     "text": [
      "\n",
      "\n"
     ]
    }
   ],
   "source": [
    "library(TFBSTools)"
   ]
  },
  {
   "cell_type": "code",
   "execution_count": 2,
   "id": "6cee7072",
   "metadata": {},
   "outputs": [],
   "source": [
    "library(monaLisa)"
   ]
  },
  {
   "cell_type": "code",
   "execution_count": 13,
   "id": "02d9173a",
   "metadata": {},
   "outputs": [
    {
     "name": "stderr",
     "output_type": "stream",
     "text": [
      "'getOption(\"repos\")' replaces Bioconductor standard repositories, see\n",
      "'?repositories' for details\n",
      "\n",
      "replacement repositories:\n",
      "    CRAN: https://cran.r-project.org\n",
      "\n",
      "\n",
      "Bioconductor version 3.16 (BiocManager 1.30.19), R 4.2.2 (2022-10-31)\n",
      "\n",
      "Installing package(s) 'GO.db'\n",
      "\n",
      "installing the source package ‘GO.db’\n",
      "\n",
      "\n",
      "Old packages: 'boot', 'broom', 'bslib', 'evaluate', 'foreign', 'GenomicRanges',\n",
      "  'gert', 'htmlwidgets', 'httpuv', 'Matrix', 'nlme', 'openssl', 'pkgdown',\n",
      "  'rmarkdown', 'roxygen2', 'shiny', 'testthat', 'tinytex', 'whisker'\n",
      "\n"
     ]
    }
   ],
   "source": [
    "if (!require(\"BiocManager\", quietly = TRUE))\n",
    "    install.packages(\"BiocManager\")\n",
    "\n",
    "BiocManager::install(\"GO.db\")"
   ]
  },
  {
   "cell_type": "code",
   "execution_count": 3,
   "id": "b6c14e24",
   "metadata": {},
   "outputs": [
    {
     "name": "stderr",
     "output_type": "stream",
     "text": [
      "Loading required package: BiocFileCache\n",
      "\n",
      "Loading required package: dbplyr\n",
      "\n"
     ]
    }
   ],
   "source": [
    "library(\"JASPAR2022\")"
   ]
  },
  {
   "cell_type": "code",
   "execution_count": 19,
   "id": "ec09008b",
   "metadata": {},
   "outputs": [
    {
     "ename": "ERROR",
     "evalue": "Error in parse(text = x, srcfile = src): <text>:4:35: unexpected ')'\n3: \n4: BiocManager::install(\"JASPAR2022\"))\n                                     ^\n",
     "output_type": "error",
     "traceback": [
      "Error in parse(text = x, srcfile = src): <text>:4:35: unexpected ')'\n3: \n4: BiocManager::install(\"JASPAR2022\"))\n                                     ^\nTraceback:\n"
     ]
    }
   ],
   "source": [
    "if (!require(\"BiocManager\", quietly = TRUE))\n",
    "    install.packages(\"BiocManager\")\n",
    "\n",
    "BiocManager::install(\"JASPAR2022\"))"
   ]
  },
  {
   "cell_type": "code",
   "execution_count": 18,
   "id": "4b4975b5",
   "metadata": {},
   "outputs": [
    {
     "name": "stderr",
     "output_type": "stream",
     "text": [
      "'getOption(\"repos\")' replaces Bioconductor standard repositories, see\n",
      "'?repositories' for details\n",
      "\n",
      "replacement repositories:\n",
      "    CRAN: https://cran.r-project.org\n",
      "\n",
      "\n",
      "Bioconductor version 3.16 (BiocManager 1.30.19), R 4.2.2 (2022-10-31)\n",
      "\n",
      "Installing package(s) 'JASPAR2022'\n",
      "\n",
      "also installing the dependencies ‘assertthat’, ‘dbplyr’, ‘filelock’, ‘BiocFileCache’\n",
      "\n",
      "\n"
     ]
    },
    {
     "name": "stdout",
     "output_type": "stream",
     "text": [
      "\n",
      "The downloaded binary packages are in\n",
      "\t/var/folders/v_/t8sj0x6d40df4js90kcjqysr0000gn/T//Rtmp0au3HZ/downloaded_packages\n"
     ]
    },
    {
     "name": "stderr",
     "output_type": "stream",
     "text": [
      "installing the source package ‘JASPAR2022’\n",
      "\n",
      "\n",
      "Old packages: 'boot', 'broom', 'bslib', 'evaluate', 'foreign', 'GenomicRanges',\n",
      "  'gert', 'htmlwidgets', 'httpuv', 'Matrix', 'nlme', 'openssl', 'pkgdown',\n",
      "  'rmarkdown', 'roxygen2', 'shiny', 'testthat', 'tinytex', 'whisker'\n",
      "\n"
     ]
    }
   ],
   "source": [
    "if (!require(\"BiocManager\", quietly = TRUE))\n",
    "    install.packages(\"BiocManager\")\n",
    "\n",
    "BiocManager::install(\"JASPAR2022\")"
   ]
  },
  {
   "cell_type": "code",
   "execution_count": 4,
   "id": "ce892c76",
   "metadata": {},
   "outputs": [],
   "source": [
    "pfms <- getMatrixSet(JASPAR2022,\n",
    "                     opts = list(matrixtype = \"PFM\",\n",
    "                                 tax_group = \"vertebrates\"))\n"
   ]
  },
  {
   "cell_type": "code",
   "execution_count": 5,
   "id": "1f60d3ca",
   "metadata": {},
   "outputs": [],
   "source": [
    "pwms <- toPWM(pfms)"
   ]
  },
  {
   "cell_type": "code",
   "execution_count": 6,
   "id": "c41164b6",
   "metadata": {},
   "outputs": [
    {
     "ename": "ERROR",
     "evalue": "Error in h(simpleError(msg, call)): error in evaluating the argument 'subject' in selecting a method for function 'findMotifHits': object 'seqs' not found\n",
     "output_type": "error",
     "traceback": [
      "Error in h(simpleError(msg, call)): error in evaluating the argument 'subject' in selecting a method for function 'findMotifHits': object 'seqs' not found\nTraceback:\n",
      "1. findMotifHits(query = pwms, subject = seqs, min.score = 6, method = \"matchPWM\", \n .     BPPARAM = BiocParallel::SerialParam())",
      "2. .handleSimpleError(function (cond) \n . .Internal(C_tryCatchHelper(addr, 1L, cond)), \"object 'seqs' not found\", \n .     base::quote(findMotifHits(query = pwms, subject = seqs, min.score = 6, \n .         method = \"matchPWM\", BPPARAM = BiocParallel::SerialParam())))",
      "3. h(simpleError(msg, call))"
     ]
    }
   ],
   "source": [
    "res <- findMotifHits(query = pwms,\n",
    "                     subject = seqs,\n",
    "                     min.score = 6.0,\n",
    "                     method = \"matchPWM\",\n",
    "                     BPPARAM = BiocParallel::SerialParam())"
   ]
  },
  {
   "cell_type": "code",
   "execution_count": 22,
   "id": "75c620c2",
   "metadata": {},
   "outputs": [],
   "source": [
    "tmp <- tempfile()\n",
    "convert <- dumpJaspar(filename = tmp,\n",
    "                      pkg = \"JASPAR2022\",\n",
    "                      pseudocount = 1,\n",
    "                      opts = list(tax_group = \"vertebrates\"))"
   ]
  },
  {
   "cell_type": "code",
   "execution_count": null,
   "id": "682bec1a",
   "metadata": {},
   "outputs": [],
   "source": []
  },
  {
   "cell_type": "code",
   "execution_count": 30,
   "id": "53a0585b",
   "metadata": {},
   "outputs": [
    {
     "data": {
      "text/html": [
       "'character'"
      ],
      "text/latex": [
       "'character'"
      ],
      "text/markdown": [
       "'character'"
      ],
      "text/plain": [
       "[1] \"character\""
      ]
     },
     "metadata": {},
     "output_type": "display_data"
    }
   ],
   "source": [
    "typeof(tmp)"
   ]
  },
  {
   "cell_type": "code",
   "execution_count": 7,
   "id": "70fcf7c8",
   "metadata": {},
   "outputs": [
    {
     "ename": "ERROR",
     "evalue": "Error in findMotifHits(query = tmpf, subject = subject, min.score = min.score, : method == \"matchPWM\" || (method == \"homer2\" && is.character(homerfile) &&  .... is not TRUE\n",
     "output_type": "error",
     "traceback": [
      "Error in findMotifHits(query = tmpf, subject = subject, min.score = min.score, : method == \"matchPWM\" || (method == \"homer2\" && is.character(homerfile) &&  .... is not TRUE\nTraceback:\n",
      "1. findMotifHits(query = pwms, subject = \"data/chr21.extended_motifs.fa.mutated\", \n .     min.score = 6, method = \"homer2\", BPPARAM = BiocParallel::SerialParam())",
      "2. findMotifHits(query = pwms, subject = \"data/chr21.extended_motifs.fa.mutated\", \n .     min.score = 6, method = \"homer2\", BPPARAM = BiocParallel::SerialParam())",
      "3. findMotifHits(query = tmpf, subject = subject, min.score = min.score, \n .     method = method, homerfile = homerfile, BPPARAM = BPPARAM, \n .     genome = genome)",
      "4. findMotifHits(query = tmpf, subject = subject, min.score = min.score, \n .     method = method, homerfile = homerfile, BPPARAM = BPPARAM, \n .     genome = genome)",
      "5. stopifnot(method == \"matchPWM\" || (method == \"homer2\" && is.character(homerfile) && \n .     length(homerfile) == 1L && file.exists(homerfile)))"
     ]
    }
   ],
   "source": [
    "res <- findMotifHits(query = pwms ,\n",
    "                     subject = 'data/chr21.extended_motifs.fa.mutated',\n",
    "                     min.score = 6.0,\n",
    "                     method = \"homer2\",\n",
    "                     BPPARAM = BiocParallel::SerialParam())"
   ]
  },
  {
   "cell_type": "code",
   "execution_count": 8,
   "id": "d04b9c64",
   "metadata": {},
   "outputs": [],
   "source": [
    "homer_path <- findHomer()"
   ]
  },
  {
   "cell_type": "code",
   "execution_count": 9,
   "id": "f92b8ff8",
   "metadata": {},
   "outputs": [
    {
     "data": {
      "text/html": [
       "&lt;NA&gt;"
      ],
      "text/latex": [
       "<NA>"
      ],
      "text/markdown": [
       "&lt;NA&gt;"
      ],
      "text/plain": [
       "[1] NA"
      ]
     },
     "metadata": {},
     "output_type": "display_data"
    }
   ],
   "source": [
    "homer_path"
   ]
  },
  {
   "cell_type": "code",
   "execution_count": null,
   "id": "1ed1813f",
   "metadata": {},
   "outputs": [],
   "source": []
  }
 ],
 "metadata": {
  "kernelspec": {
   "display_name": "R",
   "language": "R",
   "name": "ir"
  },
  "language_info": {
   "codemirror_mode": "r",
   "file_extension": ".r",
   "mimetype": "text/x-r-source",
   "name": "R",
   "pygments_lexer": "r",
   "version": "4.2.2"
  }
 },
 "nbformat": 4,
 "nbformat_minor": 5
}
