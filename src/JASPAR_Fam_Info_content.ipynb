{
 "cells": [
  {
   "cell_type": "code",
   "execution_count": 172,
   "id": "b9bf6400",
   "metadata": {},
   "outputs": [],
   "source": [
    "import Bio\n",
    "import math\n",
    "import pyranges as pr\n",
    "from pyjaspar import jaspardb"
   ]
  },
  {
   "cell_type": "code",
   "execution_count": 170,
   "id": "61f9aaf1",
   "metadata": {},
   "outputs": [
    {
     "data": {
      "text/plain": [
       "'/Library/Frameworks/Python.framework/Versions/3.9/bin/python3.9'"
      ]
     },
     "execution_count": 170,
     "metadata": {},
     "output_type": "execute_result"
    }
   ],
   "source": [
    "import sys\n",
    "sys.executable"
   ]
  },
  {
   "cell_type": "code",
   "execution_count": 14,
   "id": "5733132d",
   "metadata": {},
   "outputs": [],
   "source": [
    "jdb_obj = jaspardb(release='JASPAR2022')"
   ]
  },
  {
   "cell_type": "code",
   "execution_count": 56,
   "id": "77cfb106",
   "metadata": {},
   "outputs": [],
   "source": [
    "motifs=jdb_obj.fetch_motifs(\n",
    "collection = None,\n",
    "tax_group = ['vertebrates']\n",
    "#species = 'Homo sapiens'\n",
    ")"
   ]
  },
  {
   "cell_type": "code",
   "execution_count": 160,
   "id": "5698b6c2",
   "metadata": {},
   "outputs": [
    {
     "name": "stdout",
     "output_type": "stream",
     "text": [
      "TF name\tArnt\n",
      "Matrix ID\tMA0004.1\n",
      "Collection\tCORE\n",
      "TF class\t['Basic helix-loop-helix factors (bHLH)']\n",
      "TF family\t['PAS domain factors']\n",
      "Species\t10090\n",
      "Taxonomic group\tvertebrates\n",
      "Accession\t['P53762']\n",
      "Data type used\tSELEX\n",
      "Medline\t7592839\n",
      "Matrix:\n",
      "        0      1      2      3      4      5\n",
      "A:   4.00  19.00   0.00   0.00   0.00   0.00\n",
      "C:  16.00   0.00  20.00   0.00   0.00   0.00\n",
      "G:   0.00   1.00   0.00  20.00   0.00  20.00\n",
      "T:   0.00   0.00   0.00   0.00  20.00   0.00\n",
      "\n",
      "\n",
      "\n"
     ]
    }
   ],
   "source": [
    "print(motifs[0])"
   ]
  },
  {
   "cell_type": "code",
   "execution_count": 80,
   "id": "cda9119e",
   "metadata": {},
   "outputs": [
    {
     "ename": "AttributeError",
     "evalue": "'Motif' object has no attribute '_str_'",
     "output_type": "error",
     "traceback": [
      "\u001b[0;31m---------------------------------------------------------------------------\u001b[0m",
      "\u001b[0;31mAttributeError\u001b[0m                            Traceback (most recent call last)",
      "\u001b[0;32m<ipython-input-80-0e9d87b2438d>\u001b[0m in \u001b[0;36m<module>\u001b[0;34m\u001b[0m\n\u001b[0;32m----> 1\u001b[0;31m \u001b[0mprint\u001b[0m\u001b[0;34m(\u001b[0m\u001b[0mmotifs\u001b[0m\u001b[0;34m[\u001b[0m\u001b[0;36m500\u001b[0m\u001b[0;34m]\u001b[0m\u001b[0;34m.\u001b[0m\u001b[0m_str_\u001b[0m\u001b[0;34m)\u001b[0m\u001b[0;34m\u001b[0m\u001b[0;34m\u001b[0m\u001b[0m\n\u001b[0m\u001b[1;32m      2\u001b[0m \u001b[0;31m#create dictionary motif_id to TF class for analysis\u001b[0m\u001b[0;34m\u001b[0m\u001b[0;34m\u001b[0m\u001b[0;34m\u001b[0m\u001b[0m\n",
      "\u001b[0;31mAttributeError\u001b[0m: 'Motif' object has no attribute '_str_'"
     ]
    }
   ],
   "source": [
    "print(motifs[500]._str_)\n",
    "#create dictionary motif_id to TF class for analysis\n"
   ]
  },
  {
   "cell_type": "code",
   "execution_count": 149,
   "id": "5cbd1666",
   "metadata": {},
   "outputs": [],
   "source": [
    "#Entropy helper functions\n",
    "#individual element\n",
    "def entrop(p):\n",
    "    return (-(p*math.log2(p)))\n",
    "#entropy for each item on list\n",
    "def entrop_col(mylis):\n",
    "    return ([entrop(item) for item in mylis])\n",
    "#entropy for whole column\n",
    "def entrop_pos(mylis):\n",
    "    return(sum(mylis))\n",
    "\n",
    "    \n",
    "    "
   ]
  },
  {
   "cell_type": "code",
   "execution_count": 140,
   "id": "a8e9d3e7",
   "metadata": {},
   "outputs": [
    {
     "data": {
      "text/plain": [
       "-0.13680278410054494"
      ]
     },
     "execution_count": 140,
     "metadata": {},
     "output_type": "execute_result"
    }
   ],
   "source": [
    "entropy(0.9)"
   ]
  },
  {
   "cell_type": "code",
   "execution_count": 126,
   "id": "708aef26",
   "metadata": {},
   "outputs": [
    {
     "data": {
      "text/plain": [
       "[0.2536231884057971,\n",
       " 0.21992753623188405,\n",
       " 0.19456521739130433,\n",
       " 0.3318840579710145]"
      ]
     },
     "execution_count": 126,
     "metadata": {},
     "output_type": "execute_result"
    }
   ],
   "source": [
    "lst"
   ]
  },
  {
   "cell_type": "code",
   "execution_count": 117,
   "id": "4c1aecdc",
   "metadata": {},
   "outputs": [],
   "source": [
    "lst = list(motifs[500].pwm[:,2].values())"
   ]
  },
  {
   "cell_type": "code",
   "execution_count": 115,
   "id": "5c5e971d",
   "metadata": {},
   "outputs": [
    {
     "name": "stdout",
     "output_type": "stream",
     "text": [
      "[0.2536231884057971, 0.21992753623188405, 0.19456521739130433, 0.3318840579710145]\n"
     ]
    }
   ],
   "source": [
    "print(list(motifs[500].pwm[:,2].values()))"
   ]
  },
  {
   "cell_type": "code",
   "execution_count": 174,
   "id": "b24860d0",
   "metadata": {},
   "outputs": [],
   "source": [
    "#Import BED for Chr Y\n",
    "path = \"data/chrY.all_unique_new_motifs.bed\"\n",
    "gr = pr.read_bed(path)"
   ]
  },
  {
   "cell_type": "code",
   "execution_count": 175,
   "id": "02c98f43",
   "metadata": {},
   "outputs": [],
   "source": [
    "df = gr.df"
   ]
  },
  {
   "cell_type": "code",
   "execution_count": 190,
   "id": "3bb8ff61",
   "metadata": {},
   "outputs": [],
   "source": [
    "df[['Chr', 'Info']] = df['Chromosome'].str.split('|', 1, expand=True)"
   ]
  },
  {
   "cell_type": "code",
   "execution_count": 207,
   "id": "738d3c2c",
   "metadata": {},
   "outputs": [],
   "source": [
    "df.drop('l_info', inplace=True, axis=1)"
   ]
  },
  {
   "cell_type": "code",
   "execution_count": 231,
   "id": "8e617271",
   "metadata": {},
   "outputs": [
    {
     "ename": "AttributeError",
     "evalue": "'Series' object has no attribute 'split'",
     "output_type": "error",
     "traceback": [
      "\u001b[0;31m---------------------------------------------------------------------------\u001b[0m",
      "\u001b[0;31mAttributeError\u001b[0m                            Traceback (most recent call last)",
      "\u001b[0;32m<ipython-input-231-efe81f561e8a>\u001b[0m in \u001b[0;36m<module>\u001b[0;34m\u001b[0m\n\u001b[0;32m----> 1\u001b[0;31m \u001b[0mdf\u001b[0m\u001b[0;34m[\u001b[0m\u001b[0;34m'Class'\u001b[0m\u001b[0;34m]\u001b[0m \u001b[0;34m=\u001b[0m \u001b[0mjdb_obj\u001b[0m\u001b[0;34m.\u001b[0m\u001b[0mfetch_motif_by_id\u001b[0m\u001b[0;34m(\u001b[0m\u001b[0mdf\u001b[0m\u001b[0;34m[\u001b[0m\u001b[0;34m'Name'\u001b[0m\u001b[0;34m]\u001b[0m\u001b[0;34m.\u001b[0m\u001b[0msplit\u001b[0m\u001b[0;34m(\u001b[0m\u001b[0;34m'_'\u001b[0m\u001b[0;34m)\u001b[0m\u001b[0;34m[\u001b[0m\u001b[0;36m1\u001b[0m\u001b[0;34m]\u001b[0m\u001b[0;34m)\u001b[0m\u001b[0;34m.\u001b[0m\u001b[0mtf_class\u001b[0m\u001b[0;34m[\u001b[0m\u001b[0;36m0\u001b[0m\u001b[0;34m]\u001b[0m\u001b[0;34m\u001b[0m\u001b[0;34m\u001b[0m\u001b[0m\n\u001b[0m",
      "\u001b[0;32m/Library/Frameworks/Python.framework/Versions/3.9/lib/python3.9/site-packages/pandas/core/generic.py\u001b[0m in \u001b[0;36m__getattr__\u001b[0;34m(self, name)\u001b[0m\n\u001b[1;32m   5573\u001b[0m         ):\n\u001b[1;32m   5574\u001b[0m             \u001b[0;32mreturn\u001b[0m \u001b[0mself\u001b[0m\u001b[0;34m[\u001b[0m\u001b[0mname\u001b[0m\u001b[0;34m]\u001b[0m\u001b[0;34m\u001b[0m\u001b[0;34m\u001b[0m\u001b[0m\n\u001b[0;32m-> 5575\u001b[0;31m         \u001b[0;32mreturn\u001b[0m \u001b[0mobject\u001b[0m\u001b[0;34m.\u001b[0m\u001b[0m__getattribute__\u001b[0m\u001b[0;34m(\u001b[0m\u001b[0mself\u001b[0m\u001b[0;34m,\u001b[0m \u001b[0mname\u001b[0m\u001b[0;34m)\u001b[0m\u001b[0;34m\u001b[0m\u001b[0;34m\u001b[0m\u001b[0m\n\u001b[0m\u001b[1;32m   5576\u001b[0m \u001b[0;34m\u001b[0m\u001b[0m\n\u001b[1;32m   5577\u001b[0m     \u001b[0;32mdef\u001b[0m \u001b[0m__setattr__\u001b[0m\u001b[0;34m(\u001b[0m\u001b[0mself\u001b[0m\u001b[0;34m,\u001b[0m \u001b[0mname\u001b[0m\u001b[0;34m:\u001b[0m \u001b[0mstr\u001b[0m\u001b[0;34m,\u001b[0m \u001b[0mvalue\u001b[0m\u001b[0;34m)\u001b[0m \u001b[0;34m->\u001b[0m \u001b[0;32mNone\u001b[0m\u001b[0;34m:\u001b[0m\u001b[0;34m\u001b[0m\u001b[0;34m\u001b[0m\u001b[0m\n",
      "\u001b[0;31mAttributeError\u001b[0m: 'Series' object has no attribute 'split'"
     ]
    }
   ],
   "source": [
    "df['Class'] = jdb_obj.fetch_motif_by_id(df['Name'][0].split('_')[1]).tf_class[0]"
   ]
  },
  {
   "cell_type": "code",
   "execution_count": 243,
   "id": "86198710",
   "metadata": {},
   "outputs": [
    {
     "ename": "AttributeError",
     "evalue": "'Series' object has no attribute 'split'",
     "output_type": "error",
     "traceback": [
      "\u001b[0;31m---------------------------------------------------------------------------\u001b[0m",
      "\u001b[0;31mAttributeError\u001b[0m                            Traceback (most recent call last)",
      "\u001b[0;32m<ipython-input-243-3a490f256121>\u001b[0m in \u001b[0;36m<module>\u001b[0;34m\u001b[0m\n\u001b[0;32m----> 1\u001b[0;31m \u001b[0mprint\u001b[0m\u001b[0;34m(\u001b[0m\u001b[0mjdb_obj\u001b[0m\u001b[0;34m.\u001b[0m\u001b[0mfetch_motif_by_id\u001b[0m\u001b[0;34m(\u001b[0m\u001b[0mdf\u001b[0m\u001b[0;34m[\u001b[0m\u001b[0;34m'Name'\u001b[0m\u001b[0;34m]\u001b[0m\u001b[0;34m[\u001b[0m\u001b[0;34m:\u001b[0m\u001b[0;34m]\u001b[0m\u001b[0;34m.\u001b[0m\u001b[0msplit\u001b[0m\u001b[0;34m(\u001b[0m\u001b[0;34m'_'\u001b[0m\u001b[0;34m)\u001b[0m\u001b[0;34m[\u001b[0m\u001b[0;36m1\u001b[0m\u001b[0;34m]\u001b[0m\u001b[0;34m)\u001b[0m\u001b[0;34m.\u001b[0m\u001b[0mtf_class\u001b[0m\u001b[0;34m[\u001b[0m\u001b[0;36m0\u001b[0m\u001b[0;34m]\u001b[0m\u001b[0;34m)\u001b[0m\u001b[0;34m\u001b[0m\u001b[0;34m\u001b[0m\u001b[0m\n\u001b[0m",
      "\u001b[0;32m/Library/Frameworks/Python.framework/Versions/3.9/lib/python3.9/site-packages/pandas/core/generic.py\u001b[0m in \u001b[0;36m__getattr__\u001b[0;34m(self, name)\u001b[0m\n\u001b[1;32m   5573\u001b[0m         ):\n\u001b[1;32m   5574\u001b[0m             \u001b[0;32mreturn\u001b[0m \u001b[0mself\u001b[0m\u001b[0;34m[\u001b[0m\u001b[0mname\u001b[0m\u001b[0;34m]\u001b[0m\u001b[0;34m\u001b[0m\u001b[0;34m\u001b[0m\u001b[0m\n\u001b[0;32m-> 5575\u001b[0;31m         \u001b[0;32mreturn\u001b[0m \u001b[0mobject\u001b[0m\u001b[0;34m.\u001b[0m\u001b[0m__getattribute__\u001b[0m\u001b[0;34m(\u001b[0m\u001b[0mself\u001b[0m\u001b[0;34m,\u001b[0m \u001b[0mname\u001b[0m\u001b[0;34m)\u001b[0m\u001b[0;34m\u001b[0m\u001b[0;34m\u001b[0m\u001b[0m\n\u001b[0m\u001b[1;32m   5576\u001b[0m \u001b[0;34m\u001b[0m\u001b[0m\n\u001b[1;32m   5577\u001b[0m     \u001b[0;32mdef\u001b[0m \u001b[0m__setattr__\u001b[0m\u001b[0;34m(\u001b[0m\u001b[0mself\u001b[0m\u001b[0;34m,\u001b[0m \u001b[0mname\u001b[0m\u001b[0;34m:\u001b[0m \u001b[0mstr\u001b[0m\u001b[0;34m,\u001b[0m \u001b[0mvalue\u001b[0m\u001b[0;34m)\u001b[0m \u001b[0;34m->\u001b[0m \u001b[0;32mNone\u001b[0m\u001b[0;34m:\u001b[0m\u001b[0;34m\u001b[0m\u001b[0;34m\u001b[0m\u001b[0m\n",
      "\u001b[0;31mAttributeError\u001b[0m: 'Series' object has no attribute 'split'"
     ]
    }
   ],
   "source": [
    "print(jdb_obj.fetch_motif_by_id(df['Name'][i].split('_')[1]).tf_class[0])"
   ]
  },
  {
   "cell_type": "code",
   "execution_count": 282,
   "id": "80789342",
   "metadata": {},
   "outputs": [],
   "source": [
    "df[\"Class\"] = \"\""
   ]
  },
  {
   "cell_type": "code",
   "execution_count": 246,
   "id": "b1194d98",
   "metadata": {},
   "outputs": [
    {
     "data": {
      "text/plain": [
       "2836"
      ]
     },
     "execution_count": 246,
     "metadata": {},
     "output_type": "execute_result"
    }
   ],
   "source": [
    "len(df[\"Class\"])"
   ]
  },
  {
   "cell_type": "code",
   "execution_count": 251,
   "id": "10ee40f6",
   "metadata": {},
   "outputs": [
    {
     "data": {
      "text/plain": [
       "18"
      ]
     },
     "execution_count": 251,
     "metadata": {},
     "output_type": "execute_result"
    }
   ],
   "source": [
    "len(df.Class.unique())"
   ]
  },
  {
   "cell_type": "code",
   "execution_count": 255,
   "id": "498a66ce",
   "metadata": {},
   "outputs": [
    {
     "data": {
      "text/plain": [
       "'IRF1_MA0050.2'"
      ]
     },
     "execution_count": 255,
     "metadata": {},
     "output_type": "execute_result"
    }
   ],
   "source": [
    "df['Name'][0]"
   ]
  },
  {
   "cell_type": "code",
   "execution_count": 260,
   "id": "0c6aa49d",
   "metadata": {},
   "outputs": [
    {
     "name": "stdout",
     "output_type": "stream",
     "text": [
      "dict_values([0.12701908957415564, 0.23788546255506607, 0.15565345080763582, 0.47944199706314244])\n"
     ]
    }
   ],
   "source": [
    "print(jdb_obj.fetch_motif_by_id(df['Name'][0].split('_')[1]).pwm[:,2].values())"
   ]
  },
  {
   "cell_type": "code",
   "execution_count": 256,
   "id": "86c78cb6",
   "metadata": {},
   "outputs": [
    {
     "ename": "SyntaxError",
     "evalue": "unmatched ')' (<ipython-input-256-c890c21b72e5>, line 1)",
     "output_type": "error",
     "traceback": [
      "\u001b[0;36m  File \u001b[0;32m\"<ipython-input-256-c890c21b72e5>\"\u001b[0;36m, line \u001b[0;32m1\u001b[0m\n\u001b[0;31m    jdb_obj.fetch_motif_by_id(df['Name'][0]).split('_')[1]).pwm[:,2].values()\u001b[0m\n\u001b[0m                                                          ^\u001b[0m\n\u001b[0;31mSyntaxError\u001b[0m\u001b[0;31m:\u001b[0m unmatched ')'\n"
     ]
    }
   ],
   "source": [
    "jdb_obj.fetch_motif_by_id(df['Name'][0]).split('_')[1]).pwm[:,2].values()"
   ]
  },
  {
   "cell_type": "code",
   "execution_count": 277,
   "id": "c06319e4",
   "metadata": {},
   "outputs": [
    {
     "data": {
      "text/html": [
       "<div>\n",
       "<style scoped>\n",
       "    .dataframe tbody tr th:only-of-type {\n",
       "        vertical-align: middle;\n",
       "    }\n",
       "\n",
       "    .dataframe tbody tr th {\n",
       "        vertical-align: top;\n",
       "    }\n",
       "\n",
       "    .dataframe thead th {\n",
       "        text-align: right;\n",
       "    }\n",
       "</style>\n",
       "<table border=\"1\" class=\"dataframe\">\n",
       "  <thead>\n",
       "    <tr style=\"text-align: right;\">\n",
       "      <th></th>\n",
       "      <th>Chromosome</th>\n",
       "      <th>Start</th>\n",
       "      <th>End</th>\n",
       "      <th>Name</th>\n",
       "      <th>Score</th>\n",
       "      <th>Strand</th>\n",
       "      <th>ThickStart</th>\n",
       "      <th>Chr</th>\n",
       "      <th>Info</th>\n",
       "      <th>St</th>\n",
       "      <th>En</th>\n",
       "      <th>Wi</th>\n",
       "      <th>Mu</th>\n",
       "      <th>Canc_T</th>\n",
       "      <th>Mut_T</th>\n",
       "      <th>Pat_ID</th>\n",
       "      <th>Class</th>\n",
       "      <th>Nm</th>\n",
       "      <th>M_ID</th>\n",
       "    </tr>\n",
       "  </thead>\n",
       "  <tbody>\n",
       "    <tr>\n",
       "      <th>0</th>\n",
       "      <td>chrY|2783846*2783846*T*C*Head-SCC*SNP*DO14502</td>\n",
       "      <td>2783836</td>\n",
       "      <td>2783856</td>\n",
       "      <td>IRF1_MA0050.2</td>\n",
       "      <td>16.5484</td>\n",
       "      <td>1.49e-06</td>\n",
       "      <td>+</td>\n",
       "      <td>chrY</td>\n",
       "      <td>2783846*2783846*T*C*Head-SCC*SNP*DO14502</td>\n",
       "      <td>2783846</td>\n",
       "      <td>2783846</td>\n",
       "      <td>T</td>\n",
       "      <td>C</td>\n",
       "      <td>Head-SCC</td>\n",
       "      <td>SNP</td>\n",
       "      <td>DO14502</td>\n",
       "      <td>Tryptophan cluster factors</td>\n",
       "      <td>IRF1</td>\n",
       "      <td>MA0050.2</td>\n",
       "    </tr>\n",
       "    <tr>\n",
       "      <th>1</th>\n",
       "      <td>chrY|2783846*2783846*T*C*Head-SCC*SNP*DO14502</td>\n",
       "      <td>2783846</td>\n",
       "      <td>2783857</td>\n",
       "      <td>ZNF384_MA1125.1</td>\n",
       "      <td>14.7234</td>\n",
       "      <td>2.5e-06</td>\n",
       "      <td>-</td>\n",
       "      <td>chrY</td>\n",
       "      <td>2783846*2783846*T*C*Head-SCC*SNP*DO14502</td>\n",
       "      <td>2783846</td>\n",
       "      <td>2783846</td>\n",
       "      <td>T</td>\n",
       "      <td>C</td>\n",
       "      <td>Head-SCC</td>\n",
       "      <td>SNP</td>\n",
       "      <td>DO14502</td>\n",
       "      <td>C2H2 zinc finger factors</td>\n",
       "      <td>ZNF384</td>\n",
       "      <td>MA1125.1</td>\n",
       "    </tr>\n",
       "    <tr>\n",
       "      <th>2</th>\n",
       "      <td>chrY|2799533*2799533*G*T*Lung-SCC*SNP*DO26463</td>\n",
       "      <td>2799520</td>\n",
       "      <td>2799543</td>\n",
       "      <td>ZNF382_MA1594.1</td>\n",
       "      <td>11.7374</td>\n",
       "      <td>3.26e-06</td>\n",
       "      <td>+</td>\n",
       "      <td>chrY</td>\n",
       "      <td>2799533*2799533*G*T*Lung-SCC*SNP*DO26463</td>\n",
       "      <td>2799533</td>\n",
       "      <td>2799533</td>\n",
       "      <td>G</td>\n",
       "      <td>T</td>\n",
       "      <td>Lung-SCC</td>\n",
       "      <td>SNP</td>\n",
       "      <td>DO26463</td>\n",
       "      <td>C2H2 zinc finger factors</td>\n",
       "      <td>ZNF382</td>\n",
       "      <td>MA1594.1</td>\n",
       "    </tr>\n",
       "    <tr>\n",
       "      <th>3</th>\n",
       "      <td>chrY|2803682*2803682*G*A*Skin-Melanoma*SNP*DO2...</td>\n",
       "      <td>2803669</td>\n",
       "      <td>2803683</td>\n",
       "      <td>MEF2A_MA0052.4</td>\n",
       "      <td>14.8850</td>\n",
       "      <td>3.06e-06</td>\n",
       "      <td>+</td>\n",
       "      <td>chrY</td>\n",
       "      <td>2803682*2803682*G*A*Skin-Melanoma*SNP*DO220883</td>\n",
       "      <td>2803682</td>\n",
       "      <td>2803682</td>\n",
       "      <td>G</td>\n",
       "      <td>A</td>\n",
       "      <td>Skin-Melanoma</td>\n",
       "      <td>SNP</td>\n",
       "      <td>DO220883</td>\n",
       "      <td>MADS box factors</td>\n",
       "      <td>MEF2A</td>\n",
       "      <td>MA0052.4</td>\n",
       "    </tr>\n",
       "    <tr>\n",
       "      <th>4</th>\n",
       "      <td>chrY|2817608*2817608*T*C*Biliary-AdenoCA*SNP*D...</td>\n",
       "      <td>2817608</td>\n",
       "      <td>2817619</td>\n",
       "      <td>ZNF384_MA1125.1</td>\n",
       "      <td>14.7234</td>\n",
       "      <td>2.5e-06</td>\n",
       "      <td>-</td>\n",
       "      <td>chrY</td>\n",
       "      <td>2817608*2817608*T*C*Biliary-AdenoCA*SNP*DO217864</td>\n",
       "      <td>2817608</td>\n",
       "      <td>2817608</td>\n",
       "      <td>T</td>\n",
       "      <td>C</td>\n",
       "      <td>Biliary-AdenoCA</td>\n",
       "      <td>SNP</td>\n",
       "      <td>DO217864</td>\n",
       "      <td>C2H2 zinc finger factors</td>\n",
       "      <td>ZNF384</td>\n",
       "      <td>MA1125.1</td>\n",
       "    </tr>\n",
       "    <tr>\n",
       "      <th>...</th>\n",
       "      <td>...</td>\n",
       "      <td>...</td>\n",
       "      <td>...</td>\n",
       "      <td>...</td>\n",
       "      <td>...</td>\n",
       "      <td>...</td>\n",
       "      <td>...</td>\n",
       "      <td>...</td>\n",
       "      <td>...</td>\n",
       "      <td>...</td>\n",
       "      <td>...</td>\n",
       "      <td>...</td>\n",
       "      <td>...</td>\n",
       "      <td>...</td>\n",
       "      <td>...</td>\n",
       "      <td>...</td>\n",
       "      <td>...</td>\n",
       "      <td>...</td>\n",
       "      <td>...</td>\n",
       "    </tr>\n",
       "    <tr>\n",
       "      <th>2831</th>\n",
       "      <td>chrY|56877153*56877153*G*T*Lung-SCC*SNP*DO27025</td>\n",
       "      <td>56877148</td>\n",
       "      <td>56877158</td>\n",
       "      <td>FOXA3_MA1683.1</td>\n",
       "      <td>13.6069</td>\n",
       "      <td>1.27e-06</td>\n",
       "      <td>-</td>\n",
       "      <td>chrY</td>\n",
       "      <td>56877153*56877153*G*T*Lung-SCC*SNP*DO27025</td>\n",
       "      <td>56877153</td>\n",
       "      <td>56877153</td>\n",
       "      <td>G</td>\n",
       "      <td>T</td>\n",
       "      <td>Lung-SCC</td>\n",
       "      <td>SNP</td>\n",
       "      <td>DO27025</td>\n",
       "      <td></td>\n",
       "      <td>FOXA3</td>\n",
       "      <td>MA1683.1</td>\n",
       "    </tr>\n",
       "    <tr>\n",
       "      <th>2832</th>\n",
       "      <td>chrY|56877153*56877153*G*T*Lung-SCC*SNP*DO27025</td>\n",
       "      <td>56877148</td>\n",
       "      <td>56877158</td>\n",
       "      <td>FOXK2_MA1103.2</td>\n",
       "      <td>13.5764</td>\n",
       "      <td>1.8e-06</td>\n",
       "      <td>-</td>\n",
       "      <td>chrY</td>\n",
       "      <td>56877153*56877153*G*T*Lung-SCC*SNP*DO27025</td>\n",
       "      <td>56877153</td>\n",
       "      <td>56877153</td>\n",
       "      <td>G</td>\n",
       "      <td>T</td>\n",
       "      <td>Lung-SCC</td>\n",
       "      <td>SNP</td>\n",
       "      <td>DO27025</td>\n",
       "      <td></td>\n",
       "      <td>FOXK2</td>\n",
       "      <td>MA1103.2</td>\n",
       "    </tr>\n",
       "    <tr>\n",
       "      <th>2833</th>\n",
       "      <td>chrY|56877494*56877494*C*T*Skin-Melanoma*SNP*D...</td>\n",
       "      <td>56877490</td>\n",
       "      <td>56877502</td>\n",
       "      <td>ZNF24_MA1124.1</td>\n",
       "      <td>15.0545</td>\n",
       "      <td>3.29e-06</td>\n",
       "      <td>+</td>\n",
       "      <td>chrY</td>\n",
       "      <td>56877494*56877494*C*T*Skin-Melanoma*SNP*DO220883</td>\n",
       "      <td>56877494</td>\n",
       "      <td>56877494</td>\n",
       "      <td>C</td>\n",
       "      <td>T</td>\n",
       "      <td>Skin-Melanoma</td>\n",
       "      <td>SNP</td>\n",
       "      <td>DO220883</td>\n",
       "      <td></td>\n",
       "      <td>ZNF24</td>\n",
       "      <td>MA1124.1</td>\n",
       "    </tr>\n",
       "    <tr>\n",
       "      <th>2834</th>\n",
       "      <td>chrY|56880553*56880553*C*A*Liver-HCC*SNP*DO50806</td>\n",
       "      <td>56880546</td>\n",
       "      <td>56880555</td>\n",
       "      <td>RBPJ_MA1116.1</td>\n",
       "      <td>13.4310</td>\n",
       "      <td>5.3e-06</td>\n",
       "      <td>+</td>\n",
       "      <td>chrY</td>\n",
       "      <td>56880553*56880553*C*A*Liver-HCC*SNP*DO50806</td>\n",
       "      <td>56880553</td>\n",
       "      <td>56880553</td>\n",
       "      <td>C</td>\n",
       "      <td>A</td>\n",
       "      <td>Liver-HCC</td>\n",
       "      <td>SNP</td>\n",
       "      <td>DO50806</td>\n",
       "      <td></td>\n",
       "      <td>RBPJ</td>\n",
       "      <td>MA1116.1</td>\n",
       "    </tr>\n",
       "    <tr>\n",
       "      <th>2835</th>\n",
       "      <td>chrY|56881466*56881466*C*G*Lung-SCC*SNP*DO26692</td>\n",
       "      <td>56881463</td>\n",
       "      <td>56881477</td>\n",
       "      <td>ZSCAN4_MA1155.1</td>\n",
       "      <td>12.6207</td>\n",
       "      <td>3.65e-06</td>\n",
       "      <td>-</td>\n",
       "      <td>chrY</td>\n",
       "      <td>56881466*56881466*C*G*Lung-SCC*SNP*DO26692</td>\n",
       "      <td>56881466</td>\n",
       "      <td>56881466</td>\n",
       "      <td>C</td>\n",
       "      <td>G</td>\n",
       "      <td>Lung-SCC</td>\n",
       "      <td>SNP</td>\n",
       "      <td>DO26692</td>\n",
       "      <td></td>\n",
       "      <td>ZSCAN4</td>\n",
       "      <td>MA1155.1</td>\n",
       "    </tr>\n",
       "  </tbody>\n",
       "</table>\n",
       "<p>2836 rows × 19 columns</p>\n",
       "</div>"
      ],
      "text/plain": [
       "                                             Chromosome     Start       End  \\\n",
       "0         chrY|2783846*2783846*T*C*Head-SCC*SNP*DO14502   2783836   2783856   \n",
       "1         chrY|2783846*2783846*T*C*Head-SCC*SNP*DO14502   2783846   2783857   \n",
       "2         chrY|2799533*2799533*G*T*Lung-SCC*SNP*DO26463   2799520   2799543   \n",
       "3     chrY|2803682*2803682*G*A*Skin-Melanoma*SNP*DO2...   2803669   2803683   \n",
       "4     chrY|2817608*2817608*T*C*Biliary-AdenoCA*SNP*D...   2817608   2817619   \n",
       "...                                                 ...       ...       ...   \n",
       "2831    chrY|56877153*56877153*G*T*Lung-SCC*SNP*DO27025  56877148  56877158   \n",
       "2832    chrY|56877153*56877153*G*T*Lung-SCC*SNP*DO27025  56877148  56877158   \n",
       "2833  chrY|56877494*56877494*C*T*Skin-Melanoma*SNP*D...  56877490  56877502   \n",
       "2834   chrY|56880553*56880553*C*A*Liver-HCC*SNP*DO50806  56880546  56880555   \n",
       "2835    chrY|56881466*56881466*C*G*Lung-SCC*SNP*DO26692  56881463  56881477   \n",
       "\n",
       "                 Name    Score    Strand ThickStart   Chr  \\\n",
       "0       IRF1_MA0050.2  16.5484  1.49e-06          +  chrY   \n",
       "1     ZNF384_MA1125.1  14.7234   2.5e-06          -  chrY   \n",
       "2     ZNF382_MA1594.1  11.7374  3.26e-06          +  chrY   \n",
       "3      MEF2A_MA0052.4  14.8850  3.06e-06          +  chrY   \n",
       "4     ZNF384_MA1125.1  14.7234   2.5e-06          -  chrY   \n",
       "...               ...      ...       ...        ...   ...   \n",
       "2831   FOXA3_MA1683.1  13.6069  1.27e-06          -  chrY   \n",
       "2832   FOXK2_MA1103.2  13.5764   1.8e-06          -  chrY   \n",
       "2833   ZNF24_MA1124.1  15.0545  3.29e-06          +  chrY   \n",
       "2834    RBPJ_MA1116.1  13.4310   5.3e-06          +  chrY   \n",
       "2835  ZSCAN4_MA1155.1  12.6207  3.65e-06          -  chrY   \n",
       "\n",
       "                                                  Info        St        En Wi  \\\n",
       "0             2783846*2783846*T*C*Head-SCC*SNP*DO14502   2783846   2783846  T   \n",
       "1             2783846*2783846*T*C*Head-SCC*SNP*DO14502   2783846   2783846  T   \n",
       "2             2799533*2799533*G*T*Lung-SCC*SNP*DO26463   2799533   2799533  G   \n",
       "3       2803682*2803682*G*A*Skin-Melanoma*SNP*DO220883   2803682   2803682  G   \n",
       "4     2817608*2817608*T*C*Biliary-AdenoCA*SNP*DO217864   2817608   2817608  T   \n",
       "...                                                ...       ...       ... ..   \n",
       "2831        56877153*56877153*G*T*Lung-SCC*SNP*DO27025  56877153  56877153  G   \n",
       "2832        56877153*56877153*G*T*Lung-SCC*SNP*DO27025  56877153  56877153  G   \n",
       "2833  56877494*56877494*C*T*Skin-Melanoma*SNP*DO220883  56877494  56877494  C   \n",
       "2834       56880553*56880553*C*A*Liver-HCC*SNP*DO50806  56880553  56880553  C   \n",
       "2835        56881466*56881466*C*G*Lung-SCC*SNP*DO26692  56881466  56881466  C   \n",
       "\n",
       "     Mu           Canc_T Mut_T    Pat_ID                       Class      Nm  \\\n",
       "0     C         Head-SCC   SNP   DO14502  Tryptophan cluster factors    IRF1   \n",
       "1     C         Head-SCC   SNP   DO14502    C2H2 zinc finger factors  ZNF384   \n",
       "2     T         Lung-SCC   SNP   DO26463    C2H2 zinc finger factors  ZNF382   \n",
       "3     A    Skin-Melanoma   SNP  DO220883            MADS box factors   MEF2A   \n",
       "4     C  Biliary-AdenoCA   SNP  DO217864    C2H2 zinc finger factors  ZNF384   \n",
       "...  ..              ...   ...       ...                         ...     ...   \n",
       "2831  T         Lung-SCC   SNP   DO27025                               FOXA3   \n",
       "2832  T         Lung-SCC   SNP   DO27025                               FOXK2   \n",
       "2833  T    Skin-Melanoma   SNP  DO220883                               ZNF24   \n",
       "2834  A        Liver-HCC   SNP   DO50806                                RBPJ   \n",
       "2835  G         Lung-SCC   SNP   DO26692                              ZSCAN4   \n",
       "\n",
       "          M_ID  \n",
       "0     MA0050.2  \n",
       "1     MA1125.1  \n",
       "2     MA1594.1  \n",
       "3     MA0052.4  \n",
       "4     MA1125.1  \n",
       "...        ...  \n",
       "2831  MA1683.1  \n",
       "2832  MA1103.2  \n",
       "2833  MA1124.1  \n",
       "2834  MA1116.1  \n",
       "2835  MA1155.1  \n",
       "\n",
       "[2836 rows x 19 columns]"
      ]
     },
     "execution_count": 277,
     "metadata": {},
     "output_type": "execute_result"
    }
   ],
   "source": [
    "df"
   ]
  },
  {
   "cell_type": "code",
   "execution_count": 276,
   "id": "3c8d2052",
   "metadata": {},
   "outputs": [],
   "source": [
    "df[['Nm', 'M_ID']] = df['Name'].str.split('_', 1, expand=True)"
   ]
  },
  {
   "cell_type": "code",
   "execution_count": 280,
   "id": "4bb29288",
   "metadata": {},
   "outputs": [
    {
     "data": {
      "text/html": [
       "<div>\n",
       "<style scoped>\n",
       "    .dataframe tbody tr th:only-of-type {\n",
       "        vertical-align: middle;\n",
       "    }\n",
       "\n",
       "    .dataframe tbody tr th {\n",
       "        vertical-align: top;\n",
       "    }\n",
       "\n",
       "    .dataframe thead th {\n",
       "        text-align: right;\n",
       "    }\n",
       "</style>\n",
       "<table border=\"1\" class=\"dataframe\">\n",
       "  <thead>\n",
       "    <tr style=\"text-align: right;\">\n",
       "      <th></th>\n",
       "      <th>Chromosome</th>\n",
       "      <th>Start</th>\n",
       "      <th>End</th>\n",
       "      <th>Name</th>\n",
       "      <th>Score</th>\n",
       "      <th>Strand</th>\n",
       "      <th>ThickStart</th>\n",
       "      <th>Chr</th>\n",
       "      <th>Info</th>\n",
       "      <th>St</th>\n",
       "      <th>En</th>\n",
       "      <th>Wi</th>\n",
       "      <th>Mu</th>\n",
       "      <th>Canc_T</th>\n",
       "      <th>Mut_T</th>\n",
       "      <th>Pat_ID</th>\n",
       "      <th>Class</th>\n",
       "      <th>Nm</th>\n",
       "      <th>M_ID</th>\n",
       "    </tr>\n",
       "  </thead>\n",
       "  <tbody>\n",
       "  </tbody>\n",
       "</table>\n",
       "</div>"
      ],
      "text/plain": [
       "Empty DataFrame\n",
       "Columns: [Chromosome, Start, End, Name, Score, Strand, ThickStart, Chr, Info, St, En, Wi, Mu, Canc_T, Mut_T, Pat_ID, Class, Nm, M_ID]\n",
       "Index: []"
      ]
     },
     "execution_count": 280,
     "metadata": {},
     "output_type": "execute_result"
    }
   ],
   "source": [
    "df[df['M_ID']=='MA0503.1']"
   ]
  },
  {
   "cell_type": "code",
   "execution_count": 279,
   "id": "477a8225",
   "metadata": {},
   "outputs": [],
   "source": [
    "#Delete value of Motif no longer in JASPAR\n",
    "df.drop(df[df['M_ID']=='MA0503.1'].index, inplace = True)"
   ]
  },
  {
   "cell_type": "code",
   "execution_count": 284,
   "id": "e43a9d6c",
   "metadata": {},
   "outputs": [
    {
     "data": {
      "text/plain": [
       "0       False\n",
       "1       False\n",
       "2       False\n",
       "3       False\n",
       "4       False\n",
       "        ...  \n",
       "2831    False\n",
       "2832    False\n",
       "2833    False\n",
       "2834    False\n",
       "2835    False\n",
       "Name: M_ID, Length: 2829, dtype: bool"
      ]
     },
     "execution_count": 284,
     "metadata": {},
     "output_type": "execute_result"
    }
   ],
   "source": [
    "df['M_ID']=='MA0503.1'"
   ]
  },
  {
   "cell_type": "code",
   "execution_count": null,
   "id": "fc666dd2",
   "metadata": {},
   "outputs": [],
   "source": [
    "df['newcolumn'] = df.apply(lambda x: fxy(x['A'], x['B']), axis=1)"
   ]
  },
  {
   "cell_type": "code",
   "execution_count": 283,
   "id": "faf11d7e",
   "metadata": {},
   "outputs": [
    {
     "name": "stderr",
     "output_type": "stream",
     "text": [
      "<ipython-input-283-4e1af6b61e1c>:2: SettingWithCopyWarning: \n",
      "A value is trying to be set on a copy of a slice from a DataFrame\n",
      "\n",
      "See the caveats in the documentation: https://pandas.pydata.org/pandas-docs/stable/user_guide/indexing.html#returning-a-view-versus-a-copy\n",
      "  df[\"Class\"][i] = jdb_obj.fetch_motif_by_id(df['Name'][i].split('_')[1]).tf_class[0]\n"
     ]
    },
    {
     "ename": "KeyError",
     "evalue": "240",
     "output_type": "error",
     "traceback": [
      "\u001b[0;31m---------------------------------------------------------------------------\u001b[0m",
      "\u001b[0;31mKeyError\u001b[0m                                  Traceback (most recent call last)",
      "\u001b[0;32m/Library/Frameworks/Python.framework/Versions/3.9/lib/python3.9/site-packages/pandas/core/indexes/base.py\u001b[0m in \u001b[0;36mget_loc\u001b[0;34m(self, key, method, tolerance)\u001b[0m\n\u001b[1;32m   3620\u001b[0m             \u001b[0;32mtry\u001b[0m\u001b[0;34m:\u001b[0m\u001b[0;34m\u001b[0m\u001b[0;34m\u001b[0m\u001b[0m\n\u001b[0;32m-> 3621\u001b[0;31m                 \u001b[0;32mreturn\u001b[0m \u001b[0mself\u001b[0m\u001b[0;34m.\u001b[0m\u001b[0m_engine\u001b[0m\u001b[0;34m.\u001b[0m\u001b[0mget_loc\u001b[0m\u001b[0;34m(\u001b[0m\u001b[0mcasted_key\u001b[0m\u001b[0;34m)\u001b[0m\u001b[0;34m\u001b[0m\u001b[0;34m\u001b[0m\u001b[0m\n\u001b[0m\u001b[1;32m   3622\u001b[0m             \u001b[0;32mexcept\u001b[0m \u001b[0mKeyError\u001b[0m \u001b[0;32mas\u001b[0m \u001b[0merr\u001b[0m\u001b[0;34m:\u001b[0m\u001b[0;34m\u001b[0m\u001b[0;34m\u001b[0m\u001b[0m\n",
      "\u001b[0;32mpandas/_libs/index.pyx\u001b[0m in \u001b[0;36mpandas._libs.index.IndexEngine.get_loc\u001b[0;34m()\u001b[0m\n",
      "\u001b[0;32mpandas/_libs/index.pyx\u001b[0m in \u001b[0;36mpandas._libs.index.IndexEngine.get_loc\u001b[0;34m()\u001b[0m\n",
      "\u001b[0;32mpandas/_libs/hashtable_class_helper.pxi\u001b[0m in \u001b[0;36mpandas._libs.hashtable.Int64HashTable.get_item\u001b[0;34m()\u001b[0m\n",
      "\u001b[0;32mpandas/_libs/hashtable_class_helper.pxi\u001b[0m in \u001b[0;36mpandas._libs.hashtable.Int64HashTable.get_item\u001b[0;34m()\u001b[0m\n",
      "\u001b[0;31mKeyError\u001b[0m: 240",
      "\nThe above exception was the direct cause of the following exception:\n",
      "\u001b[0;31mKeyError\u001b[0m                                  Traceback (most recent call last)",
      "\u001b[0;32m<ipython-input-283-4e1af6b61e1c>\u001b[0m in \u001b[0;36m<module>\u001b[0;34m\u001b[0m\n\u001b[1;32m      1\u001b[0m \u001b[0;32mfor\u001b[0m \u001b[0mi\u001b[0m \u001b[0;32min\u001b[0m \u001b[0mrange\u001b[0m\u001b[0;34m(\u001b[0m\u001b[0;36m0\u001b[0m\u001b[0;34m,\u001b[0m\u001b[0mlen\u001b[0m\u001b[0;34m(\u001b[0m\u001b[0mdf\u001b[0m\u001b[0;34m[\u001b[0m\u001b[0;34m\"Class\"\u001b[0m\u001b[0;34m]\u001b[0m\u001b[0;34m)\u001b[0m\u001b[0;34m)\u001b[0m\u001b[0;34m:\u001b[0m\u001b[0;34m\u001b[0m\u001b[0;34m\u001b[0m\u001b[0m\n\u001b[0;32m----> 2\u001b[0;31m                \u001b[0mdf\u001b[0m\u001b[0;34m[\u001b[0m\u001b[0;34m\"Class\"\u001b[0m\u001b[0;34m]\u001b[0m\u001b[0;34m[\u001b[0m\u001b[0mi\u001b[0m\u001b[0;34m]\u001b[0m \u001b[0;34m=\u001b[0m \u001b[0mjdb_obj\u001b[0m\u001b[0;34m.\u001b[0m\u001b[0mfetch_motif_by_id\u001b[0m\u001b[0;34m(\u001b[0m\u001b[0mdf\u001b[0m\u001b[0;34m[\u001b[0m\u001b[0;34m'Name'\u001b[0m\u001b[0;34m]\u001b[0m\u001b[0;34m[\u001b[0m\u001b[0mi\u001b[0m\u001b[0;34m]\u001b[0m\u001b[0;34m.\u001b[0m\u001b[0msplit\u001b[0m\u001b[0;34m(\u001b[0m\u001b[0;34m'_'\u001b[0m\u001b[0;34m)\u001b[0m\u001b[0;34m[\u001b[0m\u001b[0;36m1\u001b[0m\u001b[0;34m]\u001b[0m\u001b[0;34m)\u001b[0m\u001b[0;34m.\u001b[0m\u001b[0mtf_class\u001b[0m\u001b[0;34m[\u001b[0m\u001b[0;36m0\u001b[0m\u001b[0;34m]\u001b[0m\u001b[0;34m\u001b[0m\u001b[0;34m\u001b[0m\u001b[0m\n\u001b[0m",
      "\u001b[0;32m/Library/Frameworks/Python.framework/Versions/3.9/lib/python3.9/site-packages/pandas/core/series.py\u001b[0m in \u001b[0;36m__getitem__\u001b[0;34m(self, key)\u001b[0m\n\u001b[1;32m    956\u001b[0m \u001b[0;34m\u001b[0m\u001b[0m\n\u001b[1;32m    957\u001b[0m         \u001b[0;32melif\u001b[0m \u001b[0mkey_is_scalar\u001b[0m\u001b[0;34m:\u001b[0m\u001b[0;34m\u001b[0m\u001b[0;34m\u001b[0m\u001b[0m\n\u001b[0;32m--> 958\u001b[0;31m             \u001b[0;32mreturn\u001b[0m \u001b[0mself\u001b[0m\u001b[0;34m.\u001b[0m\u001b[0m_get_value\u001b[0m\u001b[0;34m(\u001b[0m\u001b[0mkey\u001b[0m\u001b[0;34m)\u001b[0m\u001b[0;34m\u001b[0m\u001b[0;34m\u001b[0m\u001b[0m\n\u001b[0m\u001b[1;32m    959\u001b[0m \u001b[0;34m\u001b[0m\u001b[0m\n\u001b[1;32m    960\u001b[0m         \u001b[0;32mif\u001b[0m \u001b[0mis_hashable\u001b[0m\u001b[0;34m(\u001b[0m\u001b[0mkey\u001b[0m\u001b[0;34m)\u001b[0m\u001b[0;34m:\u001b[0m\u001b[0;34m\u001b[0m\u001b[0;34m\u001b[0m\u001b[0m\n",
      "\u001b[0;32m/Library/Frameworks/Python.framework/Versions/3.9/lib/python3.9/site-packages/pandas/core/series.py\u001b[0m in \u001b[0;36m_get_value\u001b[0;34m(self, label, takeable)\u001b[0m\n\u001b[1;32m   1067\u001b[0m \u001b[0;34m\u001b[0m\u001b[0m\n\u001b[1;32m   1068\u001b[0m         \u001b[0;31m# Similar to Index.get_value, but we do not fall back to positional\u001b[0m\u001b[0;34m\u001b[0m\u001b[0;34m\u001b[0m\u001b[0;34m\u001b[0m\u001b[0m\n\u001b[0;32m-> 1069\u001b[0;31m         \u001b[0mloc\u001b[0m \u001b[0;34m=\u001b[0m \u001b[0mself\u001b[0m\u001b[0;34m.\u001b[0m\u001b[0mindex\u001b[0m\u001b[0;34m.\u001b[0m\u001b[0mget_loc\u001b[0m\u001b[0;34m(\u001b[0m\u001b[0mlabel\u001b[0m\u001b[0;34m)\u001b[0m\u001b[0;34m\u001b[0m\u001b[0;34m\u001b[0m\u001b[0m\n\u001b[0m\u001b[1;32m   1070\u001b[0m         \u001b[0;32mreturn\u001b[0m \u001b[0mself\u001b[0m\u001b[0;34m.\u001b[0m\u001b[0mindex\u001b[0m\u001b[0;34m.\u001b[0m\u001b[0m_get_values_for_loc\u001b[0m\u001b[0;34m(\u001b[0m\u001b[0mself\u001b[0m\u001b[0;34m,\u001b[0m \u001b[0mloc\u001b[0m\u001b[0;34m,\u001b[0m \u001b[0mlabel\u001b[0m\u001b[0;34m)\u001b[0m\u001b[0;34m\u001b[0m\u001b[0;34m\u001b[0m\u001b[0m\n\u001b[1;32m   1071\u001b[0m \u001b[0;34m\u001b[0m\u001b[0m\n",
      "\u001b[0;32m/Library/Frameworks/Python.framework/Versions/3.9/lib/python3.9/site-packages/pandas/core/indexes/base.py\u001b[0m in \u001b[0;36mget_loc\u001b[0;34m(self, key, method, tolerance)\u001b[0m\n\u001b[1;32m   3621\u001b[0m                 \u001b[0;32mreturn\u001b[0m \u001b[0mself\u001b[0m\u001b[0;34m.\u001b[0m\u001b[0m_engine\u001b[0m\u001b[0;34m.\u001b[0m\u001b[0mget_loc\u001b[0m\u001b[0;34m(\u001b[0m\u001b[0mcasted_key\u001b[0m\u001b[0;34m)\u001b[0m\u001b[0;34m\u001b[0m\u001b[0;34m\u001b[0m\u001b[0m\n\u001b[1;32m   3622\u001b[0m             \u001b[0;32mexcept\u001b[0m \u001b[0mKeyError\u001b[0m \u001b[0;32mas\u001b[0m \u001b[0merr\u001b[0m\u001b[0;34m:\u001b[0m\u001b[0;34m\u001b[0m\u001b[0;34m\u001b[0m\u001b[0m\n\u001b[0;32m-> 3623\u001b[0;31m                 \u001b[0;32mraise\u001b[0m \u001b[0mKeyError\u001b[0m\u001b[0;34m(\u001b[0m\u001b[0mkey\u001b[0m\u001b[0;34m)\u001b[0m \u001b[0;32mfrom\u001b[0m \u001b[0merr\u001b[0m\u001b[0;34m\u001b[0m\u001b[0;34m\u001b[0m\u001b[0m\n\u001b[0m\u001b[1;32m   3624\u001b[0m             \u001b[0;32mexcept\u001b[0m \u001b[0mTypeError\u001b[0m\u001b[0;34m:\u001b[0m\u001b[0;34m\u001b[0m\u001b[0;34m\u001b[0m\u001b[0m\n\u001b[1;32m   3625\u001b[0m                 \u001b[0;31m# If we have a listlike key, _check_indexing_error will raise\u001b[0m\u001b[0;34m\u001b[0m\u001b[0;34m\u001b[0m\u001b[0;34m\u001b[0m\u001b[0m\n",
      "\u001b[0;31mKeyError\u001b[0m: 240"
     ]
    }
   ],
   "source": [
    "for i in range(0,len(df[\"Class\"])):\n",
    "               df[\"Class\"][i] = jdb_obj.fetch_motif_by_id(df['Name'][i]).tf_class[0]"
   ]
  },
  {
   "cell_type": "code",
   "execution_count": null,
   "id": "8854bbe4",
   "metadata": {},
   "outputs": [],
   "source": [
    "df[\"Class\"]"
   ]
  },
  {
   "cell_type": "code",
   "execution_count": 196,
   "id": "6297fbeb",
   "metadata": {},
   "outputs": [
    {
     "data": {
      "text/plain": [
       "['2783846', '2783846', 'T', 'C', 'Head-SCC', 'SNP', 'DO14502']"
      ]
     },
     "execution_count": 196,
     "metadata": {},
     "output_type": "execute_result"
    }
   ],
   "source": [
    "df['Info'][0].split(\"*\")"
   ]
  },
  {
   "cell_type": "code",
   "execution_count": 202,
   "id": "b1f80883",
   "metadata": {},
   "outputs": [],
   "source": [
    "df[\"l_info\"] = len(df['Info'].str.split(\"*\", 1, expand=True))"
   ]
  },
  {
   "cell_type": "code",
   "execution_count": 205,
   "id": "d74f1c4b",
   "metadata": {},
   "outputs": [
    {
     "data": {
      "text/plain": [
       "0       2836\n",
       "1       2836\n",
       "2       2836\n",
       "3       2836\n",
       "4       2836\n",
       "        ... \n",
       "2831    2836\n",
       "2832    2836\n",
       "2833    2836\n",
       "2834    2836\n",
       "2835    2836\n",
       "Name: l_info, Length: 2836, dtype: int64"
      ]
     },
     "execution_count": 205,
     "metadata": {},
     "output_type": "execute_result"
    }
   ],
   "source": [
    "df[\"l_info\"]"
   ]
  },
  {
   "cell_type": "code",
   "execution_count": 204,
   "id": "74ee0b1f",
   "metadata": {},
   "outputs": [
    {
     "data": {
      "text/html": [
       "<div>\n",
       "<style scoped>\n",
       "    .dataframe tbody tr th:only-of-type {\n",
       "        vertical-align: middle;\n",
       "    }\n",
       "\n",
       "    .dataframe tbody tr th {\n",
       "        vertical-align: top;\n",
       "    }\n",
       "\n",
       "    .dataframe thead th {\n",
       "        text-align: right;\n",
       "    }\n",
       "</style>\n",
       "<table border=\"1\" class=\"dataframe\">\n",
       "  <thead>\n",
       "    <tr style=\"text-align: right;\">\n",
       "      <th></th>\n",
       "      <th>Chromosome</th>\n",
       "      <th>Start</th>\n",
       "      <th>End</th>\n",
       "      <th>Name</th>\n",
       "      <th>Score</th>\n",
       "      <th>Strand</th>\n",
       "      <th>ThickStart</th>\n",
       "      <th>Chr</th>\n",
       "      <th>Info</th>\n",
       "      <th>l_info</th>\n",
       "    </tr>\n",
       "  </thead>\n",
       "  <tbody>\n",
       "    <tr>\n",
       "      <th>0</th>\n",
       "      <td>chrY|2783846*2783846*T*C*Head-SCC*SNP*DO14502</td>\n",
       "      <td>2783836</td>\n",
       "      <td>2783856</td>\n",
       "      <td>IRF1_MA0050.2</td>\n",
       "      <td>16.5484</td>\n",
       "      <td>1.49e-06</td>\n",
       "      <td>+</td>\n",
       "      <td>chrY</td>\n",
       "      <td>2783846*2783846*T*C*Head-SCC*SNP*DO14502</td>\n",
       "      <td>2836</td>\n",
       "    </tr>\n",
       "    <tr>\n",
       "      <th>1</th>\n",
       "      <td>chrY|2783846*2783846*T*C*Head-SCC*SNP*DO14502</td>\n",
       "      <td>2783846</td>\n",
       "      <td>2783857</td>\n",
       "      <td>ZNF384_MA1125.1</td>\n",
       "      <td>14.7234</td>\n",
       "      <td>2.5e-06</td>\n",
       "      <td>-</td>\n",
       "      <td>chrY</td>\n",
       "      <td>2783846*2783846*T*C*Head-SCC*SNP*DO14502</td>\n",
       "      <td>2836</td>\n",
       "    </tr>\n",
       "    <tr>\n",
       "      <th>2</th>\n",
       "      <td>chrY|2799533*2799533*G*T*Lung-SCC*SNP*DO26463</td>\n",
       "      <td>2799520</td>\n",
       "      <td>2799543</td>\n",
       "      <td>ZNF382_MA1594.1</td>\n",
       "      <td>11.7374</td>\n",
       "      <td>3.26e-06</td>\n",
       "      <td>+</td>\n",
       "      <td>chrY</td>\n",
       "      <td>2799533*2799533*G*T*Lung-SCC*SNP*DO26463</td>\n",
       "      <td>2836</td>\n",
       "    </tr>\n",
       "    <tr>\n",
       "      <th>3</th>\n",
       "      <td>chrY|2803682*2803682*G*A*Skin-Melanoma*SNP*DO2...</td>\n",
       "      <td>2803669</td>\n",
       "      <td>2803683</td>\n",
       "      <td>MEF2A_MA0052.4</td>\n",
       "      <td>14.8850</td>\n",
       "      <td>3.06e-06</td>\n",
       "      <td>+</td>\n",
       "      <td>chrY</td>\n",
       "      <td>2803682*2803682*G*A*Skin-Melanoma*SNP*DO220883</td>\n",
       "      <td>2836</td>\n",
       "    </tr>\n",
       "    <tr>\n",
       "      <th>4</th>\n",
       "      <td>chrY|2817608*2817608*T*C*Biliary-AdenoCA*SNP*D...</td>\n",
       "      <td>2817608</td>\n",
       "      <td>2817619</td>\n",
       "      <td>ZNF384_MA1125.1</td>\n",
       "      <td>14.7234</td>\n",
       "      <td>2.5e-06</td>\n",
       "      <td>-</td>\n",
       "      <td>chrY</td>\n",
       "      <td>2817608*2817608*T*C*Biliary-AdenoCA*SNP*DO217864</td>\n",
       "      <td>2836</td>\n",
       "    </tr>\n",
       "    <tr>\n",
       "      <th>...</th>\n",
       "      <td>...</td>\n",
       "      <td>...</td>\n",
       "      <td>...</td>\n",
       "      <td>...</td>\n",
       "      <td>...</td>\n",
       "      <td>...</td>\n",
       "      <td>...</td>\n",
       "      <td>...</td>\n",
       "      <td>...</td>\n",
       "      <td>...</td>\n",
       "    </tr>\n",
       "    <tr>\n",
       "      <th>2831</th>\n",
       "      <td>chrY|56877153*56877153*G*T*Lung-SCC*SNP*DO27025</td>\n",
       "      <td>56877148</td>\n",
       "      <td>56877158</td>\n",
       "      <td>FOXA3_MA1683.1</td>\n",
       "      <td>13.6069</td>\n",
       "      <td>1.27e-06</td>\n",
       "      <td>-</td>\n",
       "      <td>chrY</td>\n",
       "      <td>56877153*56877153*G*T*Lung-SCC*SNP*DO27025</td>\n",
       "      <td>2836</td>\n",
       "    </tr>\n",
       "    <tr>\n",
       "      <th>2832</th>\n",
       "      <td>chrY|56877153*56877153*G*T*Lung-SCC*SNP*DO27025</td>\n",
       "      <td>56877148</td>\n",
       "      <td>56877158</td>\n",
       "      <td>FOXK2_MA1103.2</td>\n",
       "      <td>13.5764</td>\n",
       "      <td>1.8e-06</td>\n",
       "      <td>-</td>\n",
       "      <td>chrY</td>\n",
       "      <td>56877153*56877153*G*T*Lung-SCC*SNP*DO27025</td>\n",
       "      <td>2836</td>\n",
       "    </tr>\n",
       "    <tr>\n",
       "      <th>2833</th>\n",
       "      <td>chrY|56877494*56877494*C*T*Skin-Melanoma*SNP*D...</td>\n",
       "      <td>56877490</td>\n",
       "      <td>56877502</td>\n",
       "      <td>ZNF24_MA1124.1</td>\n",
       "      <td>15.0545</td>\n",
       "      <td>3.29e-06</td>\n",
       "      <td>+</td>\n",
       "      <td>chrY</td>\n",
       "      <td>56877494*56877494*C*T*Skin-Melanoma*SNP*DO220883</td>\n",
       "      <td>2836</td>\n",
       "    </tr>\n",
       "    <tr>\n",
       "      <th>2834</th>\n",
       "      <td>chrY|56880553*56880553*C*A*Liver-HCC*SNP*DO50806</td>\n",
       "      <td>56880546</td>\n",
       "      <td>56880555</td>\n",
       "      <td>RBPJ_MA1116.1</td>\n",
       "      <td>13.4310</td>\n",
       "      <td>5.3e-06</td>\n",
       "      <td>+</td>\n",
       "      <td>chrY</td>\n",
       "      <td>56880553*56880553*C*A*Liver-HCC*SNP*DO50806</td>\n",
       "      <td>2836</td>\n",
       "    </tr>\n",
       "    <tr>\n",
       "      <th>2835</th>\n",
       "      <td>chrY|56881466*56881466*C*G*Lung-SCC*SNP*DO26692</td>\n",
       "      <td>56881463</td>\n",
       "      <td>56881477</td>\n",
       "      <td>ZSCAN4_MA1155.1</td>\n",
       "      <td>12.6207</td>\n",
       "      <td>3.65e-06</td>\n",
       "      <td>-</td>\n",
       "      <td>chrY</td>\n",
       "      <td>56881466*56881466*C*G*Lung-SCC*SNP*DO26692</td>\n",
       "      <td>2836</td>\n",
       "    </tr>\n",
       "  </tbody>\n",
       "</table>\n",
       "<p>2836 rows × 10 columns</p>\n",
       "</div>"
      ],
      "text/plain": [
       "                                             Chromosome     Start       End  \\\n",
       "0         chrY|2783846*2783846*T*C*Head-SCC*SNP*DO14502   2783836   2783856   \n",
       "1         chrY|2783846*2783846*T*C*Head-SCC*SNP*DO14502   2783846   2783857   \n",
       "2         chrY|2799533*2799533*G*T*Lung-SCC*SNP*DO26463   2799520   2799543   \n",
       "3     chrY|2803682*2803682*G*A*Skin-Melanoma*SNP*DO2...   2803669   2803683   \n",
       "4     chrY|2817608*2817608*T*C*Biliary-AdenoCA*SNP*D...   2817608   2817619   \n",
       "...                                                 ...       ...       ...   \n",
       "2831    chrY|56877153*56877153*G*T*Lung-SCC*SNP*DO27025  56877148  56877158   \n",
       "2832    chrY|56877153*56877153*G*T*Lung-SCC*SNP*DO27025  56877148  56877158   \n",
       "2833  chrY|56877494*56877494*C*T*Skin-Melanoma*SNP*D...  56877490  56877502   \n",
       "2834   chrY|56880553*56880553*C*A*Liver-HCC*SNP*DO50806  56880546  56880555   \n",
       "2835    chrY|56881466*56881466*C*G*Lung-SCC*SNP*DO26692  56881463  56881477   \n",
       "\n",
       "                 Name    Score    Strand ThickStart   Chr  \\\n",
       "0       IRF1_MA0050.2  16.5484  1.49e-06          +  chrY   \n",
       "1     ZNF384_MA1125.1  14.7234   2.5e-06          -  chrY   \n",
       "2     ZNF382_MA1594.1  11.7374  3.26e-06          +  chrY   \n",
       "3      MEF2A_MA0052.4  14.8850  3.06e-06          +  chrY   \n",
       "4     ZNF384_MA1125.1  14.7234   2.5e-06          -  chrY   \n",
       "...               ...      ...       ...        ...   ...   \n",
       "2831   FOXA3_MA1683.1  13.6069  1.27e-06          -  chrY   \n",
       "2832   FOXK2_MA1103.2  13.5764   1.8e-06          -  chrY   \n",
       "2833   ZNF24_MA1124.1  15.0545  3.29e-06          +  chrY   \n",
       "2834    RBPJ_MA1116.1  13.4310   5.3e-06          +  chrY   \n",
       "2835  ZSCAN4_MA1155.1  12.6207  3.65e-06          -  chrY   \n",
       "\n",
       "                                                  Info  l_info  \n",
       "0             2783846*2783846*T*C*Head-SCC*SNP*DO14502    2836  \n",
       "1             2783846*2783846*T*C*Head-SCC*SNP*DO14502    2836  \n",
       "2             2799533*2799533*G*T*Lung-SCC*SNP*DO26463    2836  \n",
       "3       2803682*2803682*G*A*Skin-Melanoma*SNP*DO220883    2836  \n",
       "4     2817608*2817608*T*C*Biliary-AdenoCA*SNP*DO217864    2836  \n",
       "...                                                ...     ...  \n",
       "2831        56877153*56877153*G*T*Lung-SCC*SNP*DO27025    2836  \n",
       "2832        56877153*56877153*G*T*Lung-SCC*SNP*DO27025    2836  \n",
       "2833  56877494*56877494*C*T*Skin-Melanoma*SNP*DO220883    2836  \n",
       "2834       56880553*56880553*C*A*Liver-HCC*SNP*DO50806    2836  \n",
       "2835        56881466*56881466*C*G*Lung-SCC*SNP*DO26692    2836  \n",
       "\n",
       "[2836 rows x 10 columns]"
      ]
     },
     "execution_count": 204,
     "metadata": {},
     "output_type": "execute_result"
    }
   ],
   "source": [
    "df[df[\"l_info\"]!= 0]"
   ]
  },
  {
   "cell_type": "code",
   "execution_count": 197,
   "id": "bc192de0",
   "metadata": {},
   "outputs": [
    {
     "data": {
      "text/plain": [
       "5        chrY|2841654*2841654*G*C*Lymph-BNHL*SNP*DO221123\n",
       "6           chrY|2855399*2855399*G*T*Head-SCC*SNP*DO15791\n",
       "7       chrY|2872681*2872681*T*-*Panc-AdenoCA*DEL*DO51474\n",
       "8       chrY|2916668*2916668*G*A*Panc-Endocrine*SNP*DO...\n",
       "9          chrY|2934213*2934213*C*G*Liver-HCC*SNP*DO45092\n",
       "                              ...                        \n",
       "2831      chrY|56877153*56877153*G*T*Lung-SCC*SNP*DO27025\n",
       "2832      chrY|56877153*56877153*G*T*Lung-SCC*SNP*DO27025\n",
       "2833    chrY|56877494*56877494*C*T*Skin-Melanoma*SNP*D...\n",
       "2834     chrY|56880553*56880553*C*A*Liver-HCC*SNP*DO50806\n",
       "2835      chrY|56881466*56881466*C*G*Lung-SCC*SNP*DO26692\n",
       "Name: Chromosome, Length: 2831, dtype: category\n",
       "Categories (1556, object): ['chrY|10000264*10000264*C*A*Head-SCC*SNP*DO14343', 'chrY|10001268*10001269*-*A*Myeloid-AML*INS*DO..., 'chrY|10003635*10003635*G*A*Skin-Melanoma*SNP*..., 'chrY|10006290*10006290*G*C*Head-SCC*SNP*DO14204', ..., 'chrY|9978159*9978159*A*T*Liver-HCC*SNP*DO48505', 'chrY|9991371*9991371*C*A*Head-SCC*SNP*DO14343', 'chrY|9993964*9993964*G*C*Kidney-RCC*SNP*DO44515', 'chrY|9999493*9999494*-*T*Panc-AdenoCA*INS*DO5...]"
      ]
     },
     "execution_count": 197,
     "metadata": {},
     "output_type": "execute_result"
    }
   ],
   "source": [
    "df['Chromosome'][5:]"
   ]
  },
  {
   "cell_type": "code",
   "execution_count": 187,
   "id": "fa36a5c1",
   "metadata": {},
   "outputs": [
    {
     "data": {
      "text/plain": [
       "['2783846', '2783846', 'T', 'C', 'Head-SCC', 'SNP', 'DO14502']"
      ]
     },
     "execution_count": 187,
     "metadata": {},
     "output_type": "execute_result"
    }
   ],
   "source": [
    "df['Chromosome'][0][5:].split('*')"
   ]
  },
  {
   "cell_type": "code",
   "execution_count": 215,
   "id": "9c105551",
   "metadata": {},
   "outputs": [
    {
     "ename": "ValueError",
     "evalue": "Columns must be same length as key",
     "output_type": "error",
     "traceback": [
      "\u001b[0;31m---------------------------------------------------------------------------\u001b[0m",
      "\u001b[0;31mValueError\u001b[0m                                Traceback (most recent call last)",
      "\u001b[0;32m<ipython-input-215-d7c9c2f18e1f>\u001b[0m in \u001b[0;36m<module>\u001b[0;34m\u001b[0m\n\u001b[0;32m----> 1\u001b[0;31m \u001b[0mdf\u001b[0m\u001b[0;34m[\u001b[0m\u001b[0;34m[\u001b[0m\u001b[0;34m'St'\u001b[0m\u001b[0;34m,\u001b[0m \u001b[0;34m'En'\u001b[0m\u001b[0;34m,\u001b[0m\u001b[0;34m'Wi'\u001b[0m\u001b[0;34m,\u001b[0m \u001b[0;34m'Mu'\u001b[0m\u001b[0;34m,\u001b[0m\u001b[0;34m'Canc_T'\u001b[0m\u001b[0;34m,\u001b[0m \u001b[0;34m'Mut_T'\u001b[0m\u001b[0;34m,\u001b[0m \u001b[0;34m'Pat_ID'\u001b[0m\u001b[0;34m]\u001b[0m\u001b[0;34m]\u001b[0m \u001b[0;34m=\u001b[0m \u001b[0mdf\u001b[0m\u001b[0;34m[\u001b[0m\u001b[0;34m'Info'\u001b[0m\u001b[0;34m]\u001b[0m\u001b[0;34m.\u001b[0m\u001b[0mstr\u001b[0m\u001b[0;34m.\u001b[0m\u001b[0msplit\u001b[0m\u001b[0;34m(\u001b[0m\u001b[0;34m'*'\u001b[0m\u001b[0;34m,\u001b[0m \u001b[0mexpand\u001b[0m\u001b[0;34m=\u001b[0m\u001b[0;32mTrue\u001b[0m\u001b[0;34m)\u001b[0m\u001b[0;34m\u001b[0m\u001b[0;34m\u001b[0m\u001b[0m\n\u001b[0m",
      "\u001b[0;32m/Library/Frameworks/Python.framework/Versions/3.9/lib/python3.9/site-packages/pandas/core/frame.py\u001b[0m in \u001b[0;36m__setitem__\u001b[0;34m(self, key, value)\u001b[0m\n\u001b[1;32m   3641\u001b[0m             \u001b[0mself\u001b[0m\u001b[0;34m.\u001b[0m\u001b[0m_setitem_frame\u001b[0m\u001b[0;34m(\u001b[0m\u001b[0mkey\u001b[0m\u001b[0;34m,\u001b[0m \u001b[0mvalue\u001b[0m\u001b[0;34m)\u001b[0m\u001b[0;34m\u001b[0m\u001b[0;34m\u001b[0m\u001b[0m\n\u001b[1;32m   3642\u001b[0m         \u001b[0;32melif\u001b[0m \u001b[0misinstance\u001b[0m\u001b[0;34m(\u001b[0m\u001b[0mkey\u001b[0m\u001b[0;34m,\u001b[0m \u001b[0;34m(\u001b[0m\u001b[0mSeries\u001b[0m\u001b[0;34m,\u001b[0m \u001b[0mnp\u001b[0m\u001b[0;34m.\u001b[0m\u001b[0mndarray\u001b[0m\u001b[0;34m,\u001b[0m \u001b[0mlist\u001b[0m\u001b[0;34m,\u001b[0m \u001b[0mIndex\u001b[0m\u001b[0;34m)\u001b[0m\u001b[0;34m)\u001b[0m\u001b[0;34m:\u001b[0m\u001b[0;34m\u001b[0m\u001b[0;34m\u001b[0m\u001b[0m\n\u001b[0;32m-> 3643\u001b[0;31m             \u001b[0mself\u001b[0m\u001b[0;34m.\u001b[0m\u001b[0m_setitem_array\u001b[0m\u001b[0;34m(\u001b[0m\u001b[0mkey\u001b[0m\u001b[0;34m,\u001b[0m \u001b[0mvalue\u001b[0m\u001b[0;34m)\u001b[0m\u001b[0;34m\u001b[0m\u001b[0;34m\u001b[0m\u001b[0m\n\u001b[0m\u001b[1;32m   3644\u001b[0m         \u001b[0;32melif\u001b[0m \u001b[0misinstance\u001b[0m\u001b[0;34m(\u001b[0m\u001b[0mvalue\u001b[0m\u001b[0;34m,\u001b[0m \u001b[0mDataFrame\u001b[0m\u001b[0;34m)\u001b[0m\u001b[0;34m:\u001b[0m\u001b[0;34m\u001b[0m\u001b[0;34m\u001b[0m\u001b[0m\n\u001b[1;32m   3645\u001b[0m             \u001b[0mself\u001b[0m\u001b[0;34m.\u001b[0m\u001b[0m_set_item_frame_value\u001b[0m\u001b[0;34m(\u001b[0m\u001b[0mkey\u001b[0m\u001b[0;34m,\u001b[0m \u001b[0mvalue\u001b[0m\u001b[0;34m)\u001b[0m\u001b[0;34m\u001b[0m\u001b[0;34m\u001b[0m\u001b[0m\n",
      "\u001b[0;32m/Library/Frameworks/Python.framework/Versions/3.9/lib/python3.9/site-packages/pandas/core/frame.py\u001b[0m in \u001b[0;36m_setitem_array\u001b[0;34m(self, key, value)\u001b[0m\n\u001b[1;32m   3683\u001b[0m \u001b[0;34m\u001b[0m\u001b[0m\n\u001b[1;32m   3684\u001b[0m             \u001b[0;32mif\u001b[0m \u001b[0misinstance\u001b[0m\u001b[0;34m(\u001b[0m\u001b[0mvalue\u001b[0m\u001b[0;34m,\u001b[0m \u001b[0mDataFrame\u001b[0m\u001b[0;34m)\u001b[0m\u001b[0;34m:\u001b[0m\u001b[0;34m\u001b[0m\u001b[0;34m\u001b[0m\u001b[0m\n\u001b[0;32m-> 3685\u001b[0;31m                 \u001b[0mcheck_key_length\u001b[0m\u001b[0;34m(\u001b[0m\u001b[0mself\u001b[0m\u001b[0;34m.\u001b[0m\u001b[0mcolumns\u001b[0m\u001b[0;34m,\u001b[0m \u001b[0mkey\u001b[0m\u001b[0;34m,\u001b[0m \u001b[0mvalue\u001b[0m\u001b[0;34m)\u001b[0m\u001b[0;34m\u001b[0m\u001b[0;34m\u001b[0m\u001b[0m\n\u001b[0m\u001b[1;32m   3686\u001b[0m                 \u001b[0;32mfor\u001b[0m \u001b[0mk1\u001b[0m\u001b[0;34m,\u001b[0m \u001b[0mk2\u001b[0m \u001b[0;32min\u001b[0m \u001b[0mzip\u001b[0m\u001b[0;34m(\u001b[0m\u001b[0mkey\u001b[0m\u001b[0;34m,\u001b[0m \u001b[0mvalue\u001b[0m\u001b[0;34m.\u001b[0m\u001b[0mcolumns\u001b[0m\u001b[0;34m)\u001b[0m\u001b[0;34m:\u001b[0m\u001b[0;34m\u001b[0m\u001b[0;34m\u001b[0m\u001b[0m\n\u001b[1;32m   3687\u001b[0m                     \u001b[0mself\u001b[0m\u001b[0;34m[\u001b[0m\u001b[0mk1\u001b[0m\u001b[0;34m]\u001b[0m \u001b[0;34m=\u001b[0m \u001b[0mvalue\u001b[0m\u001b[0;34m[\u001b[0m\u001b[0mk2\u001b[0m\u001b[0;34m]\u001b[0m\u001b[0;34m\u001b[0m\u001b[0;34m\u001b[0m\u001b[0m\n",
      "\u001b[0;32m/Library/Frameworks/Python.framework/Versions/3.9/lib/python3.9/site-packages/pandas/core/indexers/utils.py\u001b[0m in \u001b[0;36mcheck_key_length\u001b[0;34m(columns, key, value)\u001b[0m\n\u001b[1;32m    426\u001b[0m     \u001b[0;32mif\u001b[0m \u001b[0mcolumns\u001b[0m\u001b[0;34m.\u001b[0m\u001b[0mis_unique\u001b[0m\u001b[0;34m:\u001b[0m\u001b[0;34m\u001b[0m\u001b[0;34m\u001b[0m\u001b[0m\n\u001b[1;32m    427\u001b[0m         \u001b[0;32mif\u001b[0m \u001b[0mlen\u001b[0m\u001b[0;34m(\u001b[0m\u001b[0mvalue\u001b[0m\u001b[0;34m.\u001b[0m\u001b[0mcolumns\u001b[0m\u001b[0;34m)\u001b[0m \u001b[0;34m!=\u001b[0m \u001b[0mlen\u001b[0m\u001b[0;34m(\u001b[0m\u001b[0mkey\u001b[0m\u001b[0;34m)\u001b[0m\u001b[0;34m:\u001b[0m\u001b[0;34m\u001b[0m\u001b[0;34m\u001b[0m\u001b[0m\n\u001b[0;32m--> 428\u001b[0;31m             \u001b[0;32mraise\u001b[0m \u001b[0mValueError\u001b[0m\u001b[0;34m(\u001b[0m\u001b[0;34m\"Columns must be same length as key\"\u001b[0m\u001b[0;34m)\u001b[0m\u001b[0;34m\u001b[0m\u001b[0;34m\u001b[0m\u001b[0m\n\u001b[0m\u001b[1;32m    429\u001b[0m     \u001b[0;32melse\u001b[0m\u001b[0;34m:\u001b[0m\u001b[0;34m\u001b[0m\u001b[0;34m\u001b[0m\u001b[0m\n\u001b[1;32m    430\u001b[0m         \u001b[0;31m# Missing keys in columns are represented as -1\u001b[0m\u001b[0;34m\u001b[0m\u001b[0;34m\u001b[0m\u001b[0;34m\u001b[0m\u001b[0m\n",
      "\u001b[0;31mValueError\u001b[0m: Columns must be same length as key"
     ]
    }
   ],
   "source": [
    "df[['St', 'En','Wi', 'Mu','Canc_T', 'Mut_T', 'Pat_ID']] = df['Info'].str.split('*', expand=True)"
   ]
  },
  {
   "cell_type": "code",
   "execution_count": 217,
   "id": "2a816911",
   "metadata": {},
   "outputs": [],
   "source": [
    "df[['St','En','Wi','Mu','Canc_T','Mut_T','Pat_ID','l1','l2','l3','l4','l5','l6']] = df['Info'].str.split('*', expand=True)"
   ]
  },
  {
   "cell_type": "code",
   "execution_count": 219,
   "id": "f2c07151",
   "metadata": {},
   "outputs": [],
   "source": [
    "df.drop(['l1','l2','l3','l4','l5','l6'], inplace=True, axis=1)"
   ]
  },
  {
   "cell_type": "code",
   "execution_count": 223,
   "id": "8d1038dd",
   "metadata": {},
   "outputs": [
    {
     "data": {
      "text/plain": [
       "array(['SNP', 'DEL', 'INS', 'DNP', 'TNP'], dtype=object)"
      ]
     },
     "execution_count": 223,
     "metadata": {},
     "output_type": "execute_result"
    }
   ],
   "source": [
    "df.Mut_T.unique()"
   ]
  },
  {
   "cell_type": "code",
   "execution_count": 236,
   "id": "8c2b2892",
   "metadata": {},
   "outputs": [
    {
     "data": {
      "text/html": [
       "<div>\n",
       "<style scoped>\n",
       "    .dataframe tbody tr th:only-of-type {\n",
       "        vertical-align: middle;\n",
       "    }\n",
       "\n",
       "    .dataframe tbody tr th {\n",
       "        vertical-align: top;\n",
       "    }\n",
       "\n",
       "    .dataframe thead th {\n",
       "        text-align: right;\n",
       "    }\n",
       "</style>\n",
       "<table border=\"1\" class=\"dataframe\">\n",
       "  <thead>\n",
       "    <tr style=\"text-align: right;\">\n",
       "      <th></th>\n",
       "      <th>Chromosome</th>\n",
       "      <th>Start</th>\n",
       "      <th>End</th>\n",
       "      <th>Name</th>\n",
       "      <th>Score</th>\n",
       "      <th>Strand</th>\n",
       "      <th>ThickStart</th>\n",
       "      <th>Chr</th>\n",
       "      <th>Info</th>\n",
       "      <th>St</th>\n",
       "      <th>En</th>\n",
       "      <th>Wi</th>\n",
       "      <th>Mu</th>\n",
       "      <th>Canc_T</th>\n",
       "      <th>Mut_T</th>\n",
       "      <th>Pat_ID</th>\n",
       "    </tr>\n",
       "  </thead>\n",
       "  <tbody>\n",
       "    <tr>\n",
       "      <th>0</th>\n",
       "      <td>chrY|2783846*2783846*T*C*Head-SCC*SNP*DO14502</td>\n",
       "      <td>2783836</td>\n",
       "      <td>2783856</td>\n",
       "      <td>IRF1_MA0050.2</td>\n",
       "      <td>16.5484</td>\n",
       "      <td>1.49e-06</td>\n",
       "      <td>+</td>\n",
       "      <td>chrY</td>\n",
       "      <td>2783846*2783846*T*C*Head-SCC*SNP*DO14502</td>\n",
       "      <td>2783846</td>\n",
       "      <td>2783846</td>\n",
       "      <td>T</td>\n",
       "      <td>C</td>\n",
       "      <td>Head-SCC</td>\n",
       "      <td>SNP</td>\n",
       "      <td>DO14502</td>\n",
       "    </tr>\n",
       "    <tr>\n",
       "      <th>1</th>\n",
       "      <td>chrY|2783846*2783846*T*C*Head-SCC*SNP*DO14502</td>\n",
       "      <td>2783846</td>\n",
       "      <td>2783857</td>\n",
       "      <td>ZNF384_MA1125.1</td>\n",
       "      <td>14.7234</td>\n",
       "      <td>2.5e-06</td>\n",
       "      <td>-</td>\n",
       "      <td>chrY</td>\n",
       "      <td>2783846*2783846*T*C*Head-SCC*SNP*DO14502</td>\n",
       "      <td>2783846</td>\n",
       "      <td>2783846</td>\n",
       "      <td>T</td>\n",
       "      <td>C</td>\n",
       "      <td>Head-SCC</td>\n",
       "      <td>SNP</td>\n",
       "      <td>DO14502</td>\n",
       "    </tr>\n",
       "    <tr>\n",
       "      <th>2</th>\n",
       "      <td>chrY|2799533*2799533*G*T*Lung-SCC*SNP*DO26463</td>\n",
       "      <td>2799520</td>\n",
       "      <td>2799543</td>\n",
       "      <td>ZNF382_MA1594.1</td>\n",
       "      <td>11.7374</td>\n",
       "      <td>3.26e-06</td>\n",
       "      <td>+</td>\n",
       "      <td>chrY</td>\n",
       "      <td>2799533*2799533*G*T*Lung-SCC*SNP*DO26463</td>\n",
       "      <td>2799533</td>\n",
       "      <td>2799533</td>\n",
       "      <td>G</td>\n",
       "      <td>T</td>\n",
       "      <td>Lung-SCC</td>\n",
       "      <td>SNP</td>\n",
       "      <td>DO26463</td>\n",
       "    </tr>\n",
       "    <tr>\n",
       "      <th>3</th>\n",
       "      <td>chrY|2803682*2803682*G*A*Skin-Melanoma*SNP*DO2...</td>\n",
       "      <td>2803669</td>\n",
       "      <td>2803683</td>\n",
       "      <td>MEF2A_MA0052.4</td>\n",
       "      <td>14.8850</td>\n",
       "      <td>3.06e-06</td>\n",
       "      <td>+</td>\n",
       "      <td>chrY</td>\n",
       "      <td>2803682*2803682*G*A*Skin-Melanoma*SNP*DO220883</td>\n",
       "      <td>2803682</td>\n",
       "      <td>2803682</td>\n",
       "      <td>G</td>\n",
       "      <td>A</td>\n",
       "      <td>Skin-Melanoma</td>\n",
       "      <td>SNP</td>\n",
       "      <td>DO220883</td>\n",
       "    </tr>\n",
       "    <tr>\n",
       "      <th>4</th>\n",
       "      <td>chrY|2817608*2817608*T*C*Biliary-AdenoCA*SNP*D...</td>\n",
       "      <td>2817608</td>\n",
       "      <td>2817619</td>\n",
       "      <td>ZNF384_MA1125.1</td>\n",
       "      <td>14.7234</td>\n",
       "      <td>2.5e-06</td>\n",
       "      <td>-</td>\n",
       "      <td>chrY</td>\n",
       "      <td>2817608*2817608*T*C*Biliary-AdenoCA*SNP*DO217864</td>\n",
       "      <td>2817608</td>\n",
       "      <td>2817608</td>\n",
       "      <td>T</td>\n",
       "      <td>C</td>\n",
       "      <td>Biliary-AdenoCA</td>\n",
       "      <td>SNP</td>\n",
       "      <td>DO217864</td>\n",
       "    </tr>\n",
       "    <tr>\n",
       "      <th>...</th>\n",
       "      <td>...</td>\n",
       "      <td>...</td>\n",
       "      <td>...</td>\n",
       "      <td>...</td>\n",
       "      <td>...</td>\n",
       "      <td>...</td>\n",
       "      <td>...</td>\n",
       "      <td>...</td>\n",
       "      <td>...</td>\n",
       "      <td>...</td>\n",
       "      <td>...</td>\n",
       "      <td>...</td>\n",
       "      <td>...</td>\n",
       "      <td>...</td>\n",
       "      <td>...</td>\n",
       "      <td>...</td>\n",
       "    </tr>\n",
       "    <tr>\n",
       "      <th>2831</th>\n",
       "      <td>chrY|56877153*56877153*G*T*Lung-SCC*SNP*DO27025</td>\n",
       "      <td>56877148</td>\n",
       "      <td>56877158</td>\n",
       "      <td>FOXA3_MA1683.1</td>\n",
       "      <td>13.6069</td>\n",
       "      <td>1.27e-06</td>\n",
       "      <td>-</td>\n",
       "      <td>chrY</td>\n",
       "      <td>56877153*56877153*G*T*Lung-SCC*SNP*DO27025</td>\n",
       "      <td>56877153</td>\n",
       "      <td>56877153</td>\n",
       "      <td>G</td>\n",
       "      <td>T</td>\n",
       "      <td>Lung-SCC</td>\n",
       "      <td>SNP</td>\n",
       "      <td>DO27025</td>\n",
       "    </tr>\n",
       "    <tr>\n",
       "      <th>2832</th>\n",
       "      <td>chrY|56877153*56877153*G*T*Lung-SCC*SNP*DO27025</td>\n",
       "      <td>56877148</td>\n",
       "      <td>56877158</td>\n",
       "      <td>FOXK2_MA1103.2</td>\n",
       "      <td>13.5764</td>\n",
       "      <td>1.8e-06</td>\n",
       "      <td>-</td>\n",
       "      <td>chrY</td>\n",
       "      <td>56877153*56877153*G*T*Lung-SCC*SNP*DO27025</td>\n",
       "      <td>56877153</td>\n",
       "      <td>56877153</td>\n",
       "      <td>G</td>\n",
       "      <td>T</td>\n",
       "      <td>Lung-SCC</td>\n",
       "      <td>SNP</td>\n",
       "      <td>DO27025</td>\n",
       "    </tr>\n",
       "    <tr>\n",
       "      <th>2833</th>\n",
       "      <td>chrY|56877494*56877494*C*T*Skin-Melanoma*SNP*D...</td>\n",
       "      <td>56877490</td>\n",
       "      <td>56877502</td>\n",
       "      <td>ZNF24_MA1124.1</td>\n",
       "      <td>15.0545</td>\n",
       "      <td>3.29e-06</td>\n",
       "      <td>+</td>\n",
       "      <td>chrY</td>\n",
       "      <td>56877494*56877494*C*T*Skin-Melanoma*SNP*DO220883</td>\n",
       "      <td>56877494</td>\n",
       "      <td>56877494</td>\n",
       "      <td>C</td>\n",
       "      <td>T</td>\n",
       "      <td>Skin-Melanoma</td>\n",
       "      <td>SNP</td>\n",
       "      <td>DO220883</td>\n",
       "    </tr>\n",
       "    <tr>\n",
       "      <th>2834</th>\n",
       "      <td>chrY|56880553*56880553*C*A*Liver-HCC*SNP*DO50806</td>\n",
       "      <td>56880546</td>\n",
       "      <td>56880555</td>\n",
       "      <td>RBPJ_MA1116.1</td>\n",
       "      <td>13.4310</td>\n",
       "      <td>5.3e-06</td>\n",
       "      <td>+</td>\n",
       "      <td>chrY</td>\n",
       "      <td>56880553*56880553*C*A*Liver-HCC*SNP*DO50806</td>\n",
       "      <td>56880553</td>\n",
       "      <td>56880553</td>\n",
       "      <td>C</td>\n",
       "      <td>A</td>\n",
       "      <td>Liver-HCC</td>\n",
       "      <td>SNP</td>\n",
       "      <td>DO50806</td>\n",
       "    </tr>\n",
       "    <tr>\n",
       "      <th>2835</th>\n",
       "      <td>chrY|56881466*56881466*C*G*Lung-SCC*SNP*DO26692</td>\n",
       "      <td>56881463</td>\n",
       "      <td>56881477</td>\n",
       "      <td>ZSCAN4_MA1155.1</td>\n",
       "      <td>12.6207</td>\n",
       "      <td>3.65e-06</td>\n",
       "      <td>-</td>\n",
       "      <td>chrY</td>\n",
       "      <td>56881466*56881466*C*G*Lung-SCC*SNP*DO26692</td>\n",
       "      <td>56881466</td>\n",
       "      <td>56881466</td>\n",
       "      <td>C</td>\n",
       "      <td>G</td>\n",
       "      <td>Lung-SCC</td>\n",
       "      <td>SNP</td>\n",
       "      <td>DO26692</td>\n",
       "    </tr>\n",
       "  </tbody>\n",
       "</table>\n",
       "<p>2448 rows × 16 columns</p>\n",
       "</div>"
      ],
      "text/plain": [
       "                                             Chromosome     Start       End  \\\n",
       "0         chrY|2783846*2783846*T*C*Head-SCC*SNP*DO14502   2783836   2783856   \n",
       "1         chrY|2783846*2783846*T*C*Head-SCC*SNP*DO14502   2783846   2783857   \n",
       "2         chrY|2799533*2799533*G*T*Lung-SCC*SNP*DO26463   2799520   2799543   \n",
       "3     chrY|2803682*2803682*G*A*Skin-Melanoma*SNP*DO2...   2803669   2803683   \n",
       "4     chrY|2817608*2817608*T*C*Biliary-AdenoCA*SNP*D...   2817608   2817619   \n",
       "...                                                 ...       ...       ...   \n",
       "2831    chrY|56877153*56877153*G*T*Lung-SCC*SNP*DO27025  56877148  56877158   \n",
       "2832    chrY|56877153*56877153*G*T*Lung-SCC*SNP*DO27025  56877148  56877158   \n",
       "2833  chrY|56877494*56877494*C*T*Skin-Melanoma*SNP*D...  56877490  56877502   \n",
       "2834   chrY|56880553*56880553*C*A*Liver-HCC*SNP*DO50806  56880546  56880555   \n",
       "2835    chrY|56881466*56881466*C*G*Lung-SCC*SNP*DO26692  56881463  56881477   \n",
       "\n",
       "                 Name    Score    Strand ThickStart   Chr  \\\n",
       "0       IRF1_MA0050.2  16.5484  1.49e-06          +  chrY   \n",
       "1     ZNF384_MA1125.1  14.7234   2.5e-06          -  chrY   \n",
       "2     ZNF382_MA1594.1  11.7374  3.26e-06          +  chrY   \n",
       "3      MEF2A_MA0052.4  14.8850  3.06e-06          +  chrY   \n",
       "4     ZNF384_MA1125.1  14.7234   2.5e-06          -  chrY   \n",
       "...               ...      ...       ...        ...   ...   \n",
       "2831   FOXA3_MA1683.1  13.6069  1.27e-06          -  chrY   \n",
       "2832   FOXK2_MA1103.2  13.5764   1.8e-06          -  chrY   \n",
       "2833   ZNF24_MA1124.1  15.0545  3.29e-06          +  chrY   \n",
       "2834    RBPJ_MA1116.1  13.4310   5.3e-06          +  chrY   \n",
       "2835  ZSCAN4_MA1155.1  12.6207  3.65e-06          -  chrY   \n",
       "\n",
       "                                                  Info        St        En Wi  \\\n",
       "0             2783846*2783846*T*C*Head-SCC*SNP*DO14502   2783846   2783846  T   \n",
       "1             2783846*2783846*T*C*Head-SCC*SNP*DO14502   2783846   2783846  T   \n",
       "2             2799533*2799533*G*T*Lung-SCC*SNP*DO26463   2799533   2799533  G   \n",
       "3       2803682*2803682*G*A*Skin-Melanoma*SNP*DO220883   2803682   2803682  G   \n",
       "4     2817608*2817608*T*C*Biliary-AdenoCA*SNP*DO217864   2817608   2817608  T   \n",
       "...                                                ...       ...       ... ..   \n",
       "2831        56877153*56877153*G*T*Lung-SCC*SNP*DO27025  56877153  56877153  G   \n",
       "2832        56877153*56877153*G*T*Lung-SCC*SNP*DO27025  56877153  56877153  G   \n",
       "2833  56877494*56877494*C*T*Skin-Melanoma*SNP*DO220883  56877494  56877494  C   \n",
       "2834       56880553*56880553*C*A*Liver-HCC*SNP*DO50806  56880553  56880553  C   \n",
       "2835        56881466*56881466*C*G*Lung-SCC*SNP*DO26692  56881466  56881466  C   \n",
       "\n",
       "     Mu           Canc_T Mut_T    Pat_ID  \n",
       "0     C         Head-SCC   SNP   DO14502  \n",
       "1     C         Head-SCC   SNP   DO14502  \n",
       "2     T         Lung-SCC   SNP   DO26463  \n",
       "3     A    Skin-Melanoma   SNP  DO220883  \n",
       "4     C  Biliary-AdenoCA   SNP  DO217864  \n",
       "...  ..              ...   ...       ...  \n",
       "2831  T         Lung-SCC   SNP   DO27025  \n",
       "2832  T         Lung-SCC   SNP   DO27025  \n",
       "2833  T    Skin-Melanoma   SNP  DO220883  \n",
       "2834  A        Liver-HCC   SNP   DO50806  \n",
       "2835  G         Lung-SCC   SNP   DO26692  \n",
       "\n",
       "[2448 rows x 16 columns]"
      ]
     },
     "execution_count": 236,
     "metadata": {},
     "output_type": "execute_result"
    }
   ],
   "source": [
    "df[df['Mut_T']=='SNP']"
   ]
  },
  {
   "cell_type": "code",
   "execution_count": 235,
   "id": "3cd9d87c",
   "metadata": {},
   "outputs": [
    {
     "data": {
      "text/plain": [
       "29"
      ]
     },
     "execution_count": 235,
     "metadata": {},
     "output_type": "execute_result"
    }
   ],
   "source": [
    "len(df.Canc_T.unique())"
   ]
  },
  {
   "cell_type": "code",
   "execution_count": 265,
   "id": "2e1beddf",
   "metadata": {},
   "outputs": [],
   "source": [
    "df_snp = df[df['Mut_T']=='SNP']"
   ]
  },
  {
   "cell_type": "code",
   "execution_count": null,
   "id": "addbf904",
   "metadata": {},
   "outputs": [],
   "source": [
    "df['Class']"
   ]
  },
  {
   "cell_type": "code",
   "execution_count": 264,
   "id": "64582cb5",
   "metadata": {},
   "outputs": [
    {
     "data": {
      "text/plain": [
       "Other C4 zinc finger-type factors              1\n",
       "GCM domain factors                             1\n",
       "TEA domain factors                             1\n",
       "Paired box factors                             2\n",
       "Nuclear receptors with C4 zinc fingers         2\n",
       "STAT domain factors                            2\n",
       "High-mobility group (HMG) domain factors       4\n",
       "SMAD/NF-1 DNA-binding domain factors           6\n",
       "Basic helix-loop-helix factors (bHLH)          7\n",
       "MADS box factors                               8\n",
       "Rel homology region (RHR) factors              8\n",
       "Tryptophan cluster factors                    12\n",
       "Basic leucine zipper factors (bZIP)           13\n",
       "Fork head/winged helix factors                16\n",
       "T-Box factors                                 16\n",
       "Homeo domain factors                          63\n",
       "C2H2 zinc finger factors                      78\n",
       "                                            2596\n",
       "Name: Class, dtype: int64"
      ]
     },
     "execution_count": 264,
     "metadata": {},
     "output_type": "execute_result"
    }
   ],
   "source": [
    "df_snp['Class'].value_counts(ascending=True)"
   ]
  },
  {
   "cell_type": "code",
   "execution_count": 268,
   "id": "7b3a89c5",
   "metadata": {},
   "outputs": [
    {
     "data": {
      "text/plain": [
       "                                            2253\n",
       "Homeo domain factors                          57\n",
       "C2H2 zinc finger factors                      53\n",
       "T-Box factors                                 16\n",
       "Fork head/winged helix factors                15\n",
       "Basic leucine zipper factors (bZIP)           13\n",
       "Rel homology region (RHR) factors              8\n",
       "Basic helix-loop-helix factors (bHLH)          6\n",
       "MADS box factors                               6\n",
       "SMAD/NF-1 DNA-binding domain factors           6\n",
       "High-mobility group (HMG) domain factors       4\n",
       "Tryptophan cluster factors                     3\n",
       "Paired box factors                             2\n",
       "Nuclear receptors with C4 zinc fingers         2\n",
       "STAT domain factors                            1\n",
       "TEA domain factors                             1\n",
       "Other C4 zinc finger-type factors              1\n",
       "GCM domain factors                             1\n",
       "Name: Class, dtype: int64"
      ]
     },
     "execution_count": 268,
     "metadata": {},
     "output_type": "execute_result"
    }
   ],
   "source": [
    "df_snp['Class'].value_counts(ascending=False)"
   ]
  },
  {
   "cell_type": "code",
   "execution_count": 271,
   "id": "bb5f697b",
   "metadata": {},
   "outputs": [
    {
     "data": {
      "text/plain": [
       "18"
      ]
     },
     "execution_count": 271,
     "metadata": {},
     "output_type": "execute_result"
    }
   ],
   "source": [
    "len(df_snp['Class'].unique())"
   ]
  },
  {
   "cell_type": "code",
   "execution_count": null,
   "id": "55c4bc6e",
   "metadata": {},
   "outputs": [],
   "source": []
  }
 ],
 "metadata": {
  "kernelspec": {
   "display_name": "Python 3",
   "language": "python",
   "name": "python3"
  },
  "language_info": {
   "codemirror_mode": {
    "name": "ipython",
    "version": 3
   },
   "file_extension": ".py",
   "mimetype": "text/x-python",
   "name": "python",
   "nbconvert_exporter": "python",
   "pygments_lexer": "ipython3",
   "version": "3.9.5"
  }
 },
 "nbformat": 4,
 "nbformat_minor": 5
}
